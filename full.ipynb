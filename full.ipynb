{
 "cells": [
  {
   "cell_type": "code",
   "execution_count": 21,
   "id": "06c3a5a1",
   "metadata": {},
   "outputs": [
    {
     "name": "stdout",
     "output_type": "stream",
     "text": [
      "<class 'pandas.core.frame.DataFrame'>\n",
      "RangeIndex: 9521319 entries, 0 to 9521318\n",
      "Data columns (total 17 columns):\n",
      " #   Column              Dtype  \n",
      "---  ------              -----  \n",
      " 0   ATM_ID              object \n",
      " 1   Bank_Name           object \n",
      " 2   Neighborhood        object \n",
      " 3   ATM_Type            object \n",
      " 4   Latitude            float64\n",
      " 5   Longitude           float64\n",
      " 6   Area_Type           object \n",
      " 7   Landmark            object \n",
      " 8   Date                object \n",
      " 9   Day                 object \n",
      " 10  Time                object \n",
      " 11  Transaction_Type    object \n",
      " 12  Transaction_Amount  int64  \n",
      " 13  Remaining_Cash      int64  \n",
      " 14  Cash_Refill         object \n",
      " 15  Transaction_Status  object \n",
      " 16  Festival            object \n",
      "dtypes: float64(2), int64(2), object(13)\n",
      "memory usage: 1.2+ GB\n",
      "        Date  is_salary_day\n",
      "0 2024-01-01              1\n",
      "1 2024-01-01              1\n",
      "2 2024-01-01              1\n",
      "3 2024-01-01              1\n",
      "4 2024-01-01              1\n"
     ]
    },
    {
     "name": "stderr",
     "output_type": "stream",
     "text": [
      "C:\\Users\\vibhu\\AppData\\Local\\Temp\\ipykernel_8488\\3079952511.py:67: FutureWarning:\n",
      "\n",
      "A value is trying to be set on a copy of a DataFrame or Series through chained assignment using an inplace method.\n",
      "The behavior will change in pandas 3.0. This inplace method will never work because the intermediate object on which we are setting values always behaves as a copy.\n",
      "\n",
      "For example, when doing 'df[col].method(value, inplace=True)', try using 'df.method({col: value}, inplace=True)' or df[col] = df[col].method(value) instead, to perform the operation inplace on the original object.\n",
      "\n",
      "\n",
      "\n"
     ]
    },
    {
     "name": "stdout",
     "output_type": "stream",
     "text": [
      "        Date Festival Name  is_holiday\n",
      "0 2024-01-01    No Holiday           0\n",
      "1 2024-01-01    No Holiday           0\n",
      "2 2024-01-01    No Holiday           0\n",
      "3 2024-01-01    No Holiday           0\n",
      "4 2024-01-01    No Holiday           0\n"
     ]
    }
   ],
   "source": [
    "import pandas\t as pd\n",
    "import numpy\t as np\n",
    "import matplotlib.pyplot as plt\n",
    "import seaborn\t as sns\n",
    "import os\n",
    "import plotly.express as px\n",
    "import plotly.graph_objects as go\n",
    "import plotly.io as pio\n",
    "import plotly.subplots as sp\n",
    "import plotly.express as px\n",
    "import plotly.figure_factory as ff\n",
    "import plotly.subplots as sp\n",
    "import pandas as pd\n",
    "import numpy as np\n",
    "\n",
    "# Load data\n",
    "df = pd.read_csv(r\"C:\\Users\\vibhu\\Downloads\\MSc 4th semester\\ATM cash relenishment model\\project 100atm\\merged_atm_data.csv\")\n",
    "df.head()\n",
    "\n",
    "\n",
    "\n",
    "\n",
    "df.columns\n",
    "df.info()\n",
    "# Check for missing values\n",
    "df.isnull().sum()\n",
    "df.head(10)\n",
    "df['Date'] = pd.to_datetime(df['Date'], format='%Y-%m-%d')\n",
    "df['Year'] = df['Date'].dt.year\n",
    "df['Month'] = df['Date'].dt.month\n",
    "df['Day'] = df['Date'].dt.day\n",
    "df['Weekday'] = df['Date'].dt.day_name()\n",
    "df['Week'] = df['Date'].dt.isocalendar().week\n",
    "df['Quarter'] = df['Date'].dt.quarter\n",
    "df['is_weekend'] = df['Weekday'].apply(lambda x: 1 if x in ['Saturday', 'Sunday'] else 0)\n",
    "df['is_weekday'] = df['Weekday'].apply(lambda x: 1 if x not in ['Saturday', 'Sunday'] else 0)\n",
    "df['is_holiday'] = df['Weekday'].apply(lambda x: 1 if x in ['Saturday', 'Sunday'] else 0)\n",
    "df['is_holiday'] = df['is_holiday'].astype(int)\n",
    "\n",
    "df.head()\n",
    "df.drop(columns=['Year', 'Month', 'Week', 'Quarter'], inplace=True)\n",
    "df.head()\n",
    "\n",
    "\n",
    "\n",
    "# Convert categorical columns to category type\n",
    "df['ATM_ID'] = df['ATM_ID'].astype('category')\n",
    "# Identify salary dates (assuming salaries are credited on the 1st to 8 of every month)\n",
    "df['is_salary_day'] = np.where(df['Date'].dt.day <= 8, 1, 0)\n",
    "# Check if salary dates are identified correctly\n",
    "print(df[['Date', 'is_salary_day']].head())\n",
    "\n",
    "# 2. Holiday Data\n",
    "holiday_df= pd.read_csv(r'C:\\Users\\vibhu\\Downloads\\MSc 4th semester\\ATM cash relenishment model\\project 100atm\\festivals.csv')\n",
    "holiday_df.head()\n",
    "holiday_df['Date'] = pd.to_datetime(holiday_df['Date'], format='%Y-%m-%d', errors='coerce')\n",
    "holiday_df['Date'] = pd.to_datetime(holiday_df['Date'], format='%Y-%m-%d', errors='coerce')\n",
    "\n",
    "\n",
    "# Ensure 'Date' column in holiday_df is in datetime format\n",
    "holiday_df['Date'] = pd.to_datetime(holiday_df['Date'], format='%Y-%m-%d', errors='coerce')\n",
    "\n",
    "# Merge datasets on the date column\n",
    "df = df.merge(holiday_df, how='left', left_on='Date', right_on='Date')\n",
    "\n",
    "# Fill missing values (for non-holiday days)\n",
    "df['Festival Name'].fillna(\"No Holiday\", inplace=True)\n",
    "\n",
    "# Create a binary holiday feature\n",
    "df['is_holiday'] = (df['Festival Name'] != \"No Holiday\").astype(int)\n",
    "\n",
    "print(df[['Date', 'Festival Name', 'is_holiday']].head())\n",
    "\n",
    "df.head()\n",
    "# 3. Monthly Transaction Trends\n",
    "\n",
    "# Ensure the 'Month' column exists\n",
    "df['Month'] = df['Date'].dt.month\n",
    "\n",
    "# Calculate monthly transaction trends\n",
    "monthly_trends = df.groupby('Month')['Transaction_Amount'].sum()\n",
    "\n"
   ]
  },
  {
   "cell_type": "code",
   "execution_count": 22,
   "id": "93d014df",
   "metadata": {},
   "outputs": [
    {
     "name": "stdout",
     "output_type": "stream",
     "text": [
      "            Transaction_Amount  is_salary_day  is_holiday\n",
      "Date                                                     \n",
      "2024-01-01           268787200          20833           0\n",
      "2024-01-02           285805400          22109           0\n",
      "2024-01-03           278749100          21601           0\n",
      "2024-01-04           277596900          21549           0\n",
      "2024-01-05           268912700          20818           0\n"
     ]
    },
    {
     "data": {
      "image/png": "[encoded data removed]",
      "text/plain": [
       "<Figure size 1200x800 with 4 Axes>"
      ]
     },
     "metadata": {},
     "output_type": "display_data"
    }
   ],
   "source": [
    "# Ensure 'Date' is the index for time series modeling\n",
    "if 'Date' not in df.index.names:\n",
    "\tdf.set_index(\"Date\", inplace=True)\n",
    "\n",
    "# Keep only necessary columns\n",
    "time_series_data = df[['Transaction_Amount', 'is_salary_day', 'is_holiday']]\n",
    "\n",
    "# Resample daily to ensure no missing dates\n",
    "time_series_data = time_series_data.resample('D').sum()\n",
    "\n",
    "# Check final dataset\n",
    "print(time_series_data.head())\n",
    "\n",
    "from statsmodels.tsa.seasonal import seasonal_decompose\n",
    "\n",
    "# Perform seasonal decomposition\n",
    "decomposition = seasonal_decompose(time_series_data['Transaction_Amount'], model='additive', period=30)\n",
    "\n",
    "# Extract components\n",
    "trend = decomposition.trend\n",
    "seasonal = decomposition.seasonal\n",
    "residual = decomposition.resid\n",
    "\n",
    "# Plot the decomposition\n",
    "plt.figure(figsize=(12, 8))\n",
    "\n",
    "plt.subplot(411)\n",
    "plt.plot(time_series_data['Transaction_Amount'], label='Original', color='blue')\n",
    "plt.legend(loc='upper left')\n",
    "plt.title('Original Time Series')\n",
    "\n",
    "plt.subplot(412)\n",
    "plt.plot(trend, label='Trend', color='orange')\n",
    "plt.legend(loc='upper left')\n",
    "plt.title('Trend Component')\n",
    "\n",
    "plt.subplot(413)\n",
    "plt.plot(seasonal, label='Seasonal', color='green')\n",
    "plt.legend(loc='upper left')\n",
    "plt.title('Seasonal Component')\n",
    "\n",
    "plt.subplot(414)\n",
    "plt.plot(residual, label='Residual', color='red')\n",
    "plt.legend(loc='upper left')\n",
    "plt.title('Residual Component')\n",
    "\n",
    "plt.tight_layout()\n",
    "plt.show()\n",
    "\n",
    "\n"
   ]
  },
  {
   "cell_type": "code",
   "execution_count": 23,
   "id": "952df42c",
   "metadata": {},
   "outputs": [
    {
     "name": "stdout",
     "output_type": "stream",
     "text": [
      "ADF Statistic: -2.690243158951738\n",
      "p-value: 0.07574189977895643\n",
      "Critical Values:\n",
      "   1%: -3.449226932880019\n",
      "   5%: -2.869857365438656\n",
      "   10%: -2.571201085130664\n",
      "Fail to reject the null hypothesis (series is non-stationary)\n"
     ]
    },
    {
     "data": {
      "image/png": "[encoded data removed]",
      "text/plain": [
       "<Figure size 640x480 with 1 Axes>"
      ]
     },
     "metadata": {},
     "output_type": "display_data"
    },
    {
     "data": {
      "image/png": "[encoded data removed]",
      "text/plain": [
       "<Figure size 640x480 with 1 Axes>"
      ]
     },
     "metadata": {},
     "output_type": "display_data"
    },
    {
     "data": {
      "image/png": "[encoded data removed]",
      "text/plain": [
       "<Figure size 1200x600 with 1 Axes>"
      ]
     },
     "metadata": {},
     "output_type": "display_data"
    },
    {
     "name": "stdout",
     "output_type": "stream",
     "text": [
      "ADF Statistic: -5.954805284079538\n",
      "p-value: 2.1055603949379332e-07\n",
      "Critical Values:\n",
      "   1%: -3.449226932880019\n",
      "   5%: -2.869857365438656\n",
      "   10%: -2.571201085130664\n",
      "Reject the null hypothesis (series is stationary)\n"
     ]
    }
   ],
   "source": [
    "# adf test for stationarity\n",
    "from statsmodels.tsa.stattools import adfuller\n",
    "def adf_test(series):\n",
    "\tresult = adfuller(series)\n",
    "\tprint('ADF Statistic:', result[0])\n",
    "\tprint('p-value:', result[1])\n",
    "\tprint('Critical Values:')\n",
    "\tfor key, value in result[4].items():\n",
    "\t\tprint(f'   {key}: {value}')\n",
    "\t# Interpret the result\n",
    "\tif result[1] <= 0.05:\n",
    "\t\tprint(\"Reject the null hypothesis (series is stationary)\")\n",
    "\telse:\n",
    "\t\tprint(\"Fail to reject the null hypothesis (series is non-stationary)\")\t\n",
    "\n",
    "\n",
    "\n",
    "# Perform ADF test on the time series data\n",
    "adf_test(time_series_data['Transaction_Amount'])\n",
    "# Plot ACF and PACF\n",
    "from statsmodels.graphics.tsaplots import plot_acf, plot_pacf\n",
    "from statsmodels.tsa.stattools import acf, pacf\n",
    "\n",
    "# Compute ACF and PACF values\n",
    "acf_values = acf(time_series_data['Transaction_Amount'], nlags=30, fft=True)\n",
    "pacf_values = pacf(time_series_data['Transaction_Amount'], nlags=30)\n",
    "\n",
    "plot_acf(time_series_data['Transaction_Amount'], lags=30)\t\n",
    "\n",
    "plt.title('ACF of Transaction Amount')\n",
    "plt.show()\n",
    "\n",
    "plot_pacf(time_series_data['Transaction_Amount'], lags=30)\n",
    "plt.title('PACF of Transaction Amount')\n",
    "plt.xlabel('Lags')\n",
    "plt.ylabel('PACF')\n",
    "plt.tight_layout()\n",
    "plt.show()\n",
    "\n",
    "# Apply first-order differencing to make the series stationary\n",
    "time_series_data['Differenced_Transaction_Amount'] = time_series_data['Transaction_Amount'].diff()\n",
    "\n",
    "# Drop NaN values resulting from differencing\n",
    "differenced_series = time_series_data['Differenced_Transaction_Amount'].dropna()\n",
    "# Plot the differenced series\n",
    "plt.figure(figsize=(12, 6))\n",
    "plt.plot(differenced_series, label='Differenced Transaction Amount')\n",
    "plt.title('Differenced Time Series of Transaction Amount')\n",
    "plt.xlabel('Date')\n",
    "plt.ylabel('Differenced Transaction Amount')\n",
    "plt.legend()\n",
    "plt.show()\n",
    "\n",
    "# Perform ADF test on the differenced series\n",
    "adf_test(differenced_series)\n",
    "\n"
   ]
  },
  {
   "cell_type": "code",
   "execution_count": 24,
   "id": "d604e620",
   "metadata": {},
   "outputs": [
    {
     "name": "stderr",
     "output_type": "stream",
     "text": [
      "c:\\Users\\vibhu\\miniconda3\\lib\\site-packages\\sklearn\\utils\\deprecation.py:151: FutureWarning:\n",
      "\n",
      "'force_all_finite' was renamed to 'ensure_all_finite' in 1.6 and will be removed in 1.8.\n",
      "\n",
      "c:\\Users\\vibhu\\miniconda3\\lib\\site-packages\\sklearn\\utils\\deprecation.py:151: FutureWarning:\n",
      "\n",
      "'force_all_finite' was renamed to 'ensure_all_finite' in 1.6 and will be removed in 1.8.\n",
      "\n",
      "c:\\Users\\vibhu\\miniconda3\\lib\\site-packages\\sklearn\\utils\\deprecation.py:151: FutureWarning:\n",
      "\n",
      "'force_all_finite' was renamed to 'ensure_all_finite' in 1.6 and will be removed in 1.8.\n",
      "\n",
      "c:\\Users\\vibhu\\miniconda3\\lib\\site-packages\\sklearn\\utils\\deprecation.py:151: FutureWarning:\n",
      "\n",
      "'force_all_finite' was renamed to 'ensure_all_finite' in 1.6 and will be removed in 1.8.\n",
      "\n",
      "c:\\Users\\vibhu\\miniconda3\\lib\\site-packages\\sklearn\\utils\\deprecation.py:151: FutureWarning:\n",
      "\n",
      "'force_all_finite' was renamed to 'ensure_all_finite' in 1.6 and will be removed in 1.8.\n",
      "\n",
      "c:\\Users\\vibhu\\miniconda3\\lib\\site-packages\\sklearn\\utils\\deprecation.py:151: FutureWarning:\n",
      "\n",
      "'force_all_finite' was renamed to 'ensure_all_finite' in 1.6 and will be removed in 1.8.\n",
      "\n",
      "c:\\Users\\vibhu\\miniconda3\\lib\\site-packages\\sklearn\\utils\\deprecation.py:151: FutureWarning:\n",
      "\n",
      "'force_all_finite' was renamed to 'ensure_all_finite' in 1.6 and will be removed in 1.8.\n",
      "\n",
      "c:\\Users\\vibhu\\miniconda3\\lib\\site-packages\\sklearn\\utils\\deprecation.py:151: FutureWarning:\n",
      "\n",
      "'force_all_finite' was renamed to 'ensure_all_finite' in 1.6 and will be removed in 1.8.\n",
      "\n",
      "c:\\Users\\vibhu\\miniconda3\\lib\\site-packages\\sklearn\\utils\\deprecation.py:151: FutureWarning:\n",
      "\n",
      "'force_all_finite' was renamed to 'ensure_all_finite' in 1.6 and will be removed in 1.8.\n",
      "\n",
      "c:\\Users\\vibhu\\miniconda3\\lib\\site-packages\\sklearn\\utils\\deprecation.py:151: FutureWarning:\n",
      "\n",
      "'force_all_finite' was renamed to 'ensure_all_finite' in 1.6 and will be removed in 1.8.\n",
      "\n",
      "c:\\Users\\vibhu\\miniconda3\\lib\\site-packages\\sklearn\\utils\\deprecation.py:151: FutureWarning:\n",
      "\n",
      "'force_all_finite' was renamed to 'ensure_all_finite' in 1.6 and will be removed in 1.8.\n",
      "\n",
      "c:\\Users\\vibhu\\miniconda3\\lib\\site-packages\\sklearn\\utils\\deprecation.py:151: FutureWarning:\n",
      "\n",
      "'force_all_finite' was renamed to 'ensure_all_finite' in 1.6 and will be removed in 1.8.\n",
      "\n",
      "c:\\Users\\vibhu\\miniconda3\\lib\\site-packages\\sklearn\\utils\\deprecation.py:151: FutureWarning:\n",
      "\n",
      "'force_all_finite' was renamed to 'ensure_all_finite' in 1.6 and will be removed in 1.8.\n",
      "\n",
      "c:\\Users\\vibhu\\miniconda3\\lib\\site-packages\\sklearn\\utils\\deprecation.py:151: FutureWarning:\n",
      "\n",
      "'force_all_finite' was renamed to 'ensure_all_finite' in 1.6 and will be removed in 1.8.\n",
      "\n",
      "c:\\Users\\vibhu\\miniconda3\\lib\\site-packages\\sklearn\\utils\\deprecation.py:151: FutureWarning:\n",
      "\n",
      "'force_all_finite' was renamed to 'ensure_all_finite' in 1.6 and will be removed in 1.8.\n",
      "\n",
      "c:\\Users\\vibhu\\miniconda3\\lib\\site-packages\\sklearn\\utils\\deprecation.py:151: FutureWarning:\n",
      "\n",
      "'force_all_finite' was renamed to 'ensure_all_finite' in 1.6 and will be removed in 1.8.\n",
      "\n",
      "c:\\Users\\vibhu\\miniconda3\\lib\\site-packages\\sklearn\\utils\\deprecation.py:151: FutureWarning:\n",
      "\n",
      "'force_all_finite' was renamed to 'ensure_all_finite' in 1.6 and will be removed in 1.8.\n",
      "\n",
      "c:\\Users\\vibhu\\miniconda3\\lib\\site-packages\\sklearn\\utils\\deprecation.py:151: FutureWarning:\n",
      "\n",
      "'force_all_finite' was renamed to 'ensure_all_finite' in 1.6 and will be removed in 1.8.\n",
      "\n",
      "c:\\Users\\vibhu\\miniconda3\\lib\\site-packages\\sklearn\\utils\\deprecation.py:151: FutureWarning:\n",
      "\n",
      "'force_all_finite' was renamed to 'ensure_all_finite' in 1.6 and will be removed in 1.8.\n",
      "\n",
      "c:\\Users\\vibhu\\miniconda3\\lib\\site-packages\\sklearn\\utils\\deprecation.py:151: FutureWarning:\n",
      "\n",
      "'force_all_finite' was renamed to 'ensure_all_finite' in 1.6 and will be removed in 1.8.\n",
      "\n",
      "c:\\Users\\vibhu\\miniconda3\\lib\\site-packages\\sklearn\\utils\\deprecation.py:151: FutureWarning:\n",
      "\n",
      "'force_all_finite' was renamed to 'ensure_all_finite' in 1.6 and will be removed in 1.8.\n",
      "\n",
      "c:\\Users\\vibhu\\miniconda3\\lib\\site-packages\\sklearn\\utils\\deprecation.py:151: FutureWarning:\n",
      "\n",
      "'force_all_finite' was renamed to 'ensure_all_finite' in 1.6 and will be removed in 1.8.\n",
      "\n",
      "c:\\Users\\vibhu\\miniconda3\\lib\\site-packages\\sklearn\\utils\\deprecation.py:151: FutureWarning:\n",
      "\n",
      "'force_all_finite' was renamed to 'ensure_all_finite' in 1.6 and will be removed in 1.8.\n",
      "\n",
      "c:\\Users\\vibhu\\miniconda3\\lib\\site-packages\\sklearn\\utils\\deprecation.py:151: FutureWarning:\n",
      "\n",
      "'force_all_finite' was renamed to 'ensure_all_finite' in 1.6 and will be removed in 1.8.\n",
      "\n",
      "c:\\Users\\vibhu\\miniconda3\\lib\\site-packages\\sklearn\\utils\\deprecation.py:151: FutureWarning:\n",
      "\n",
      "'force_all_finite' was renamed to 'ensure_all_finite' in 1.6 and will be removed in 1.8.\n",
      "\n",
      "c:\\Users\\vibhu\\miniconda3\\lib\\site-packages\\sklearn\\utils\\deprecation.py:151: FutureWarning:\n",
      "\n",
      "'force_all_finite' was renamed to 'ensure_all_finite' in 1.6 and will be removed in 1.8.\n",
      "\n",
      "c:\\Users\\vibhu\\miniconda3\\lib\\site-packages\\sklearn\\utils\\deprecation.py:151: FutureWarning:\n",
      "\n",
      "'force_all_finite' was renamed to 'ensure_all_finite' in 1.6 and will be removed in 1.8.\n",
      "\n",
      "c:\\Users\\vibhu\\miniconda3\\lib\\site-packages\\sklearn\\utils\\deprecation.py:151: FutureWarning:\n",
      "\n",
      "'force_all_finite' was renamed to 'ensure_all_finite' in 1.6 and will be removed in 1.8.\n",
      "\n",
      "c:\\Users\\vibhu\\miniconda3\\lib\\site-packages\\sklearn\\utils\\deprecation.py:151: FutureWarning:\n",
      "\n",
      "'force_all_finite' was renamed to 'ensure_all_finite' in 1.6 and will be removed in 1.8.\n",
      "\n",
      "c:\\Users\\vibhu\\miniconda3\\lib\\site-packages\\sklearn\\utils\\deprecation.py:151: FutureWarning:\n",
      "\n",
      "'force_all_finite' was renamed to 'ensure_all_finite' in 1.6 and will be removed in 1.8.\n",
      "\n",
      "c:\\Users\\vibhu\\miniconda3\\lib\\site-packages\\sklearn\\utils\\deprecation.py:151: FutureWarning:\n",
      "\n",
      "'force_all_finite' was renamed to 'ensure_all_finite' in 1.6 and will be removed in 1.8.\n",
      "\n",
      "c:\\Users\\vibhu\\miniconda3\\lib\\site-packages\\sklearn\\utils\\deprecation.py:151: FutureWarning:\n",
      "\n",
      "'force_all_finite' was renamed to 'ensure_all_finite' in 1.6 and will be removed in 1.8.\n",
      "\n",
      "c:\\Users\\vibhu\\miniconda3\\lib\\site-packages\\sklearn\\utils\\deprecation.py:151: FutureWarning:\n",
      "\n",
      "'force_all_finite' was renamed to 'ensure_all_finite' in 1.6 and will be removed in 1.8.\n",
      "\n",
      "c:\\Users\\vibhu\\miniconda3\\lib\\site-packages\\sklearn\\utils\\deprecation.py:151: FutureWarning:\n",
      "\n",
      "'force_all_finite' was renamed to 'ensure_all_finite' in 1.6 and will be removed in 1.8.\n",
      "\n",
      "c:\\Users\\vibhu\\miniconda3\\lib\\site-packages\\sklearn\\utils\\deprecation.py:151: FutureWarning:\n",
      "\n",
      "'force_all_finite' was renamed to 'ensure_all_finite' in 1.6 and will be removed in 1.8.\n",
      "\n",
      "c:\\Users\\vibhu\\miniconda3\\lib\\site-packages\\sklearn\\utils\\deprecation.py:151: FutureWarning:\n",
      "\n",
      "'force_all_finite' was renamed to 'ensure_all_finite' in 1.6 and will be removed in 1.8.\n",
      "\n",
      "c:\\Users\\vibhu\\miniconda3\\lib\\site-packages\\sklearn\\utils\\deprecation.py:151: FutureWarning:\n",
      "\n",
      "'force_all_finite' was renamed to 'ensure_all_finite' in 1.6 and will be removed in 1.8.\n",
      "\n",
      "c:\\Users\\vibhu\\miniconda3\\lib\\site-packages\\sklearn\\utils\\deprecation.py:151: FutureWarning:\n",
      "\n",
      "'force_all_finite' was renamed to 'ensure_all_finite' in 1.6 and will be removed in 1.8.\n",
      "\n",
      "c:\\Users\\vibhu\\miniconda3\\lib\\site-packages\\sklearn\\utils\\deprecation.py:151: FutureWarning:\n",
      "\n",
      "'force_all_finite' was renamed to 'ensure_all_finite' in 1.6 and will be removed in 1.8.\n",
      "\n",
      "c:\\Users\\vibhu\\miniconda3\\lib\\site-packages\\sklearn\\utils\\deprecation.py:151: FutureWarning:\n",
      "\n",
      "'force_all_finite' was renamed to 'ensure_all_finite' in 1.6 and will be removed in 1.8.\n",
      "\n",
      "c:\\Users\\vibhu\\miniconda3\\lib\\site-packages\\sklearn\\utils\\deprecation.py:151: FutureWarning:\n",
      "\n",
      "'force_all_finite' was renamed to 'ensure_all_finite' in 1.6 and will be removed in 1.8.\n",
      "\n",
      "c:\\Users\\vibhu\\miniconda3\\lib\\site-packages\\sklearn\\utils\\deprecation.py:151: FutureWarning:\n",
      "\n",
      "'force_all_finite' was renamed to 'ensure_all_finite' in 1.6 and will be removed in 1.8.\n",
      "\n",
      "c:\\Users\\vibhu\\miniconda3\\lib\\site-packages\\sklearn\\utils\\deprecation.py:151: FutureWarning:\n",
      "\n",
      "'force_all_finite' was renamed to 'ensure_all_finite' in 1.6 and will be removed in 1.8.\n",
      "\n",
      "c:\\Users\\vibhu\\miniconda3\\lib\\site-packages\\sklearn\\utils\\deprecation.py:151: FutureWarning:\n",
      "\n",
      "'force_all_finite' was renamed to 'ensure_all_finite' in 1.6 and will be removed in 1.8.\n",
      "\n",
      "c:\\Users\\vibhu\\miniconda3\\lib\\site-packages\\sklearn\\utils\\deprecation.py:151: FutureWarning:\n",
      "\n",
      "'force_all_finite' was renamed to 'ensure_all_finite' in 1.6 and will be removed in 1.8.\n",
      "\n",
      "c:\\Users\\vibhu\\miniconda3\\lib\\site-packages\\sklearn\\utils\\deprecation.py:151: FutureWarning:\n",
      "\n",
      "'force_all_finite' was renamed to 'ensure_all_finite' in 1.6 and will be removed in 1.8.\n",
      "\n"
     ]
    },
    {
     "name": "stdout",
     "output_type": "stream",
     "text": [
      "Auto ARIMA Model Summary:\n",
      "                                      SARIMAX Results                                      \n",
      "===========================================================================================\n",
      "Dep. Variable:                                   y   No. Observations:                  366\n",
      "Model:             SARIMAX(2, 0, 3)x(1, 0, [1], 7)   Log Likelihood               -7264.573\n",
      "Date:                             Thu, 24 Apr 2025   AIC                          14547.147\n",
      "Time:                                     13:53:46   BIC                          14582.270\n",
      "Sample:                                 01-01-2024   HQIC                         14561.104\n",
      "                                      - 12-31-2024                                         \n",
      "Covariance Type:                               opg                                         \n",
      "==============================================================================\n",
      "                 coef    std err          z      P>|z|      [0.025      0.975]\n",
      "------------------------------------------------------------------------------\n",
      "intercept   5.148e+07   2.53e-09   2.03e+16      0.000    5.15e+07    5.15e+07\n",
      "ar.L1         -0.2904      0.185     -1.567      0.117      -0.654       0.073\n",
      "ar.L2          0.4958      0.112      4.413      0.000       0.276       0.716\n",
      "ma.L1          0.9315      0.198      4.694      0.000       0.543       1.320\n",
      "ma.L2          0.4369      0.161      2.719      0.007       0.122       0.752\n",
      "ma.L3          0.2371      0.147      1.612      0.107      -0.051       0.525\n",
      "ar.S.L7        0.8347      0.042     20.066      0.000       0.753       0.916\n",
      "ma.S.L7       -0.4464      0.070     -6.334      0.000      -0.585      -0.308\n",
      "sigma2      1.376e+16   3.55e-17   3.87e+32      0.000    1.38e+16    1.38e+16\n",
      "===================================================================================\n",
      "Ljung-Box (L1) (Q):                   0.04   Jarque-Bera (JB):             44368.13\n",
      "Prob(Q):                              0.84   Prob(JB):                         0.00\n",
      "Heteroskedasticity (H):               1.98   Skew:                             5.11\n",
      "Prob(H) (two-sided):                  0.00   Kurtosis:                        55.96\n",
      "===================================================================================\n",
      "\n",
      "Warnings:\n",
      "[1] Covariance matrix calculated using the outer product of gradients (complex-step).\n",
      "[2] Covariance matrix is singular or near-singular, with condition number 5.53e+47. Standard errors may be unstable.\n",
      "\n",
      "SARIMAX Model Summary:\n",
      "                                     SARIMAX Results                                     \n",
      "=========================================================================================\n",
      "Dep. Variable:                Transaction_Amount   No. Observations:                  366\n",
      "Model:             SARIMAX(1, 1, 1)x(1, 1, 1, 7)   Log Likelihood               -6974.515\n",
      "Date:                           Thu, 24 Apr 2025   AIC                          13963.030\n",
      "Time:                                   13:53:46   BIC                          13990.194\n",
      "Sample:                               01-01-2024   HQIC                         13973.834\n",
      "                                    - 12-31-2024                                         \n",
      "Covariance Type:                             opg                                         \n",
      "=================================================================================\n",
      "                    coef    std err          z      P>|z|      [0.025      0.975]\n",
      "---------------------------------------------------------------------------------\n",
      "is_salary_day  3125.1149    203.800     15.334      0.000    2725.675    3524.555\n",
      "is_holiday      939.4722    191.904      4.896      0.000     563.347    1315.598\n",
      "ar.L1             0.6427      0.130      4.936      0.000       0.388       0.898\n",
      "ma.L1            -0.8528      0.106     -8.047      0.000      -1.061      -0.645\n",
      "ar.S.L7           0.1790      0.080      2.233      0.026       0.022       0.336\n",
      "ma.S.L7          -0.9328      0.061    -15.233      0.000      -1.053      -0.813\n",
      "sigma2         7.205e+15   6.09e-12   1.18e+27      0.000    7.21e+15    7.21e+15\n",
      "===================================================================================\n",
      "Ljung-Box (L1) (Q):                   0.86   Jarque-Bera (JB):              1326.75\n",
      "Prob(Q):                              0.36   Prob(JB):                         0.00\n",
      "Heteroskedasticity (H):               0.70   Skew:                             0.13\n",
      "Prob(H) (two-sided):                  0.06   Kurtosis:                        12.43\n",
      "===================================================================================\n",
      "\n",
      "Warnings:\n",
      "[1] Covariance matrix calculated using the outer product of gradients (complex-step).\n",
      "[2] Covariance matrix is singular or near-singular, with condition number 7.29e+42. Standard errors may be unstable.\n"
     ]
    }
   ],
   "source": [
    "from pmdarima import auto_arima\n",
    "from statsmodels.tsa.statespace.sarimax import SARIMAX\n",
    "\n",
    "# Define the exogenous variables\n",
    "exog_variables = time_series_data[['is_salary_day', 'is_holiday']]\n",
    "\n",
    "# Fit auto ARIMA model with exogenous variables\n",
    "Auto_arima_model = auto_arima(\n",
    "\ttime_series_data['Transaction_Amount'], \n",
    "\texogenous=exog_variables, \n",
    "\tseasonal=True, \n",
    "\tm=7\n",
    ")\n",
    "\n",
    "# Fit SARIMAX Model with exogenous variables\n",
    "Sarimax_model = SARIMAX(\n",
    "\ttime_series_data['Transaction_Amount'], \n",
    "\torder=(1, 1, 1), \n",
    "\tseasonal_order=(1, 1, 1, 7), \n",
    "\texog=exog_variables\n",
    ")\n",
    "Sarimax_model_fit = Sarimax_model.fit()\n",
    "\n",
    "# Print model summaries\n",
    "print(\"Auto ARIMA Model Summary:\")\n",
    "print(Auto_arima_model.summary())\n",
    "print(\"\\nSARIMAX Model Summary:\")\n",
    "print(Sarimax_model_fit.summary())"
   ]
  },
  {
   "cell_type": "code",
   "execution_count": 25,
   "id": "95b80df2",
   "metadata": {},
   "outputs": [
    {
     "name": "stderr",
     "output_type": "stream",
     "text": [
      "c:\\Users\\vibhu\\miniconda3\\lib\\site-packages\\sklearn\\utils\\deprecation.py:151: FutureWarning:\n",
      "\n",
      "'force_all_finite' was renamed to 'ensure_all_finite' in 1.6 and will be removed in 1.8.\n",
      "\n",
      "c:\\Users\\vibhu\\miniconda3\\lib\\site-packages\\_plotly_utils\\basevalidators.py:106: FutureWarning:\n",
      "\n",
      "The behavior of DatetimeProperties.to_pydatetime is deprecated, in a future version this will return a Series containing python datetime objects instead of an ndarray. To retain the old behavior, call `np.array` on the result\n",
      "\n"
     ]
    },
    {
     "data": {
      "application/vnd.plotly.v1+json": {
       "config": {
        "plotlyServerURL": "https://plot.ly"
       },
       "data": [
        {
         "line": {
          "color": "green"
         },
         "mode": "lines",
         "name": "Actual Transactions (2023-2024)",
         "type": "scatter",
         "x": [
          "2024-01-01T00:00:00",
          "2024-01-02T00:00:00",
          "2024-01-03T00:00:00",
          "2024-01-04T00:00:00",
          "2024-01-05T00:00:00",
          "2024-01-06T00:00:00",
          "2024-01-07T00:00:00",
          "2024-01-08T00:00:00",
          "2024-01-09T00:00:00",
          "2024-01-10T00:00:00",
          "2024-01-11T00:00:00",
          "2024-01-12T00:00:00",
          "2024-01-13T00:00:00",
          "2024-01-14T00:00:00",
          "2024-01-15T00:00:00",
          "2024-01-16T00:00:00",
          "2024-01-17T00:00:00",
          "2024-01-18T00:00:00",
          "2024-01-19T00:00:00",
          "2024-01-20T00:00:00",
          "2024-01-21T00:00:00",
          "2024-01-22T00:00:00",
          "2024-01-23T00:00:00",
          "2024-01-24T00:00:00",
          "2024-01-25T00:00:00",
          "2024-01-26T00:00:00",
          "2024-01-27T00:00:00",
          "2024-01-28T00:00:00",
          "2024-01-29T00:00:00",
          "2024-01-30T00:00:00",
          "2024-01-31T00:00:00",
          "2024-02-01T00:00:00",
          "2024-02-02T00:00:00",
          "2024-02-03T00:00:00",
          "2024-02-04T00:00:00",
          "2024-02-05T00:00:00",
          "2024-02-06T00:00:00",
          "2024-02-07T00:00:00",
          "2024-02-08T00:00:00",
          "2024-02-09T00:00:00",
          "2024-02-10T00:00:00",
          "2024-02-11T00:00:00",
          "2024-02-12T00:00:00",
          "2024-02-13T00:00:00",
          "2024-02-14T00:00:00",
          "2024-02-15T00:00:00",
          "2024-02-16T00:00:00",
          "2024-02-17T00:00:00",
          "2024-02-18T00:00:00",
          "2024-02-19T00:00:00",
          "2024-02-20T00:00:00",
          "2024-02-21T00:00:00",
          "2024-02-22T00:00:00",
          "2024-02-23T00:00:00",
          "2024-02-24T00:00:00",
          "2024-02-25T00:00:00",
          "2024-02-26T00:00:00",
          "2024-02-27T00:00:00",
          "2024-02-28T00:00:00",
          "2024-02-29T00:00:00",
          "2024-03-01T00:00:00",
          "2024-03-02T00:00:00",
          "2024-03-03T00:00:00",
          "2024-03-04T00:00:00",
          "2024-03-05T00:00:00",
          "2024-03-06T00:00:00",
          "2024-03-07T00:00:00",
          "2024-03-08T00:00:00",
          "2024-03-09T00:00:00",
          "2024-03-10T00:00:00",
          "2024-03-11T00:00:00",
          "2024-03-12T00:00:00",
          "2024-03-13T00:00:00",
          "2024-03-14T00:00:00",
          "2024-03-15T00:00:00",
          "2024-03-16T00:00:00",
          "2024-03-17T00:00:00",
          "2024-03-18T00:00:00",
          "2024-03-19T00:00:00",
          "2024-03-20T00:00:00",
          "2024-03-21T00:00:00",
          "2024-03-22T00:00:00",
          "2024-03-23T00:00:00",
          "2024-03-24T00:00:00",
          "2024-03-25T00:00:00",
          "2024-03-26T00:00:00",
          "2024-03-27T00:00:00",
          "2024-03-28T00:00:00",
          "2024-03-29T00:00:00",
          "2024-03-30T00:00:00",
          "2024-03-31T00:00:00",
          "2024-04-01T00:00:00",
          "2024-04-02T00:00:00",
          "2024-04-03T00:00:00",
          "2024-04-04T00:00:00",
          "2024-04-05T00:00:00",
          "2024-04-06T00:00:00",
          "2024-04-07T00:00:00",
          "2024-04-08T00:00:00",
          "2024-04-09T00:00:00",
          "2024-04-10T00:00:00",
          "2024-04-11T00:00:00",
          "2024-04-12T00:00:00",
          "2024-04-13T00:00:00",
          "2024-04-14T00:00:00",
          "2024-04-15T00:00:00",
          "2024-04-16T00:00:00",
          "2024-04-17T00:00:00",
          "2024-04-18T00:00:00",
          "2024-04-19T00:00:00",
          "2024-04-20T00:00:00",
          "2024-04-21T00:00:00",
          "2024-04-22T00:00:00",
          "2024-04-23T00:00:00",
          "2024-04-24T00:00:00",
          "2024-04-25T00:00:00",
          "2024-04-26T00:00:00",
          "2024-04-27T00:00:00",
          "2024-04-28T00:00:00",
          "2024-04-29T00:00:00",
          "2024-04-30T00:00:00",
          "2024-05-01T00:00:00",
          "2024-05-02T00:00:00",
          "2024-05-03T00:00:00",
          "2024-05-04T00:00:00",
          "2024-05-05T00:00:00",
          "2024-05-06T00:00:00",
          "2024-05-07T00:00:00",
          "2024-05-08T00:00:00",
          "2024-05-09T00:00:00",
          "2024-05-10T00:00:00",
          "2024-05-11T00:00:00",
          "2024-05-12T00:00:00",
          "2024-05-13T00:00:00",
          "2024-05-14T00:00:00",
          "2024-05-15T00:00:00",
          "2024-05-16T00:00:00",
          "2024-05-17T00:00:00",
          "2024-05-18T00:00:00",
          "2024-05-19T00:00:00",
          "2024-05-20T00:00:00",
          "2024-05-21T00:00:00",
          "2024-05-22T00:00:00",
          "2024-05-23T00:00:00",
          "2024-05-24T00:00:00",
          "2024-05-25T00:00:00",
          "2024-05-26T00:00:00",
          "2024-05-27T00:00:00",
          "2024-05-28T00:00:00",
          "2024-05-29T00:00:00",
          "2024-05-30T00:00:00",
          "2024-05-31T00:00:00",
          "2024-06-01T00:00:00",
          "2024-06-02T00:00:00",
          "2024-06-03T00:00:00",
          "2024-06-04T00:00:00",
          "2024-06-05T00:00:00",
          "2024-06-06T00:00:00",
          "2024-06-07T00:00:00",
          "2024-06-08T00:00:00",
          "2024-06-09T00:00:00",
          "2024-06-10T00:00:00",
          "2024-06-11T00:00:00",
          "2024-06-12T00:00:00",
          "2024-06-13T00:00:00",
          "2024-06-14T00:00:00",
          "2024-06-15T00:00:00",
          "2024-06-16T00:00:00",
          "2024-06-17T00:00:00",
          "2024-06-18T00:00:00",
          "2024-06-19T00:00:00",
          "2024-06-20T00:00:00",
          "2024-06-21T00:00:00",
          "2024-06-22T00:00:00",
          "2024-06-23T00:00:00",
          "2024-06-24T00:00:00",
          "2024-06-25T00:00:00",
          "2024-06-26T00:00:00",
          "2024-06-27T00:00:00",
          "2024-06-28T00:00:00",
          "2024-06-29T00:00:00",
          "2024-06-30T00:00:00",
          "2024-07-01T00:00:00",
          "2024-07-02T00:00:00",
          "2024-07-03T00:00:00",
          "2024-07-04T00:00:00",
          "2024-07-05T00:00:00",
          "2024-07-06T00:00:00",
          "2024-07-07T00:00:00",
          "2024-07-08T00:00:00",
          "2024-07-09T00:00:00",
          "2024-07-10T00:00:00",
          "2024-07-11T00:00:00",
          "2024-07-12T00:00:00",
          "2024-07-13T00:00:00",
          "2024-07-14T00:00:00",
          "2024-07-15T00:00:00",
          "2024-07-16T00:00:00",
          "2024-07-17T00:00:00",
          "2024-07-18T00:00:00",
          "2024-07-19T00:00:00",
          "2024-07-20T00:00:00",
          "2024-07-21T00:00:00",
          "2024-07-22T00:00:00",
          "2024-07-23T00:00:00",
          "2024-07-24T00:00:00",
          "2024-07-25T00:00:00",
          "2024-07-26T00:00:00",
          "2024-07-27T00:00:00",
          "2024-07-28T00:00:00",
          "2024-07-29T00:00:00",
          "2024-07-30T00:00:00",
          "2024-07-31T00:00:00",
          "2024-08-01T00:00:00",
          "2024-08-02T00:00:00",
          "2024-08-03T00:00:00",
          "2024-08-04T00:00:00",
          "2024-08-05T00:00:00",
          "2024-08-06T00:00:00",
          "2024-08-07T00:00:00",
          "2024-08-08T00:00:00",
          "2024-08-09T00:00:00",
          "2024-08-10T00:00:00",
          "2024-08-11T00:00:00",
          "2024-08-12T00:00:00",
          "2024-08-13T00:00:00",
          "2024-08-14T00:00:00",
          "2024-08-15T00:00:00",
          "2024-08-16T00:00:00",
          "2024-08-17T00:00:00",
          "2024-08-18T00:00:00",
          "2024-08-19T00:00:00",
          "2024-08-20T00:00:00",
          "2024-08-21T00:00:00",
          "2024-08-22T00:00:00",
          "2024-08-23T00:00:00",
          "2024-08-24T00:00:00",
          "2024-08-25T00:00:00",
          "2024-08-26T00:00:00",
          "2024-08-27T00:00:00",
          "2024-08-28T00:00:00",
          "2024-08-29T00:00:00",
          "2024-08-30T00:00:00",
          "2024-08-31T00:00:00",
          "2024-09-01T00:00:00",
          "2024-09-02T00:00:00",
          "2024-09-03T00:00:00",
          "2024-09-04T00:00:00",
          "2024-09-05T00:00:00",
          "2024-09-06T00:00:00",
          "2024-09-07T00:00:00",
          "2024-09-08T00:00:00",
          "2024-09-09T00:00:00",
          "2024-09-10T00:00:00",
          "2024-09-11T00:00:00",
          "2024-09-12T00:00:00",
          "2024-09-13T00:00:00",
          "2024-09-14T00:00:00",
          "2024-09-15T00:00:00",
          "2024-09-16T00:00:00",
          "2024-09-17T00:00:00",
          "2024-09-18T00:00:00",
          "2024-09-19T00:00:00",
          "2024-09-20T00:00:00",
          "2024-09-21T00:00:00",
          "2024-09-22T00:00:00",
          "2024-09-23T00:00:00",
          "2024-09-24T00:00:00",
          "2024-09-25T00:00:00",
          "2024-09-26T00:00:00",
          "2024-09-27T00:00:00",
          "2024-09-28T00:00:00",
          "2024-09-29T00:00:00",
          "2024-09-30T00:00:00",
          "2024-10-01T00:00:00",
          "2024-10-02T00:00:00",
          "2024-10-03T00:00:00",
          "2024-10-04T00:00:00",
          "2024-10-05T00:00:00",
          "2024-10-06T00:00:00",
          "2024-10-07T00:00:00",
          "2024-10-08T00:00:00",
          "2024-10-09T00:00:00",
          "2024-10-10T00:00:00",
          "2024-10-11T00:00:00",
          "2024-10-12T00:00:00",
          "2024-10-13T00:00:00",
          "2024-10-14T00:00:00",
          "2024-10-15T00:00:00",
          "2024-10-16T00:00:00",
          "2024-10-17T00:00:00",
          "2024-10-18T00:00:00",
          "2024-10-19T00:00:00",
          "2024-10-20T00:00:00",
          "2024-10-21T00:00:00",
          "2024-10-22T00:00:00",
          "2024-10-23T00:00:00",
          "2024-10-24T00:00:00",
          "2024-10-25T00:00:00",
          "2024-10-26T00:00:00",
          "2024-10-27T00:00:00",
          "2024-10-28T00:00:00",
          "2024-10-29T00:00:00",
          "2024-10-30T00:00:00",
          "2024-10-31T00:00:00",
          "2024-11-01T00:00:00",
          "2024-11-02T00:00:00",
          "2024-11-03T00:00:00",
          "2024-11-04T00:00:00",
          "2024-11-05T00:00:00",
          "2024-11-06T00:00:00",
          "2024-11-07T00:00:00",
          "2024-11-08T00:00:00",
          "2024-11-09T00:00:00",
          "2024-11-10T00:00:00",
          "2024-11-11T00:00:00",
          "2024-11-12T00:00:00",
          "2024-11-13T00:00:00",
          "2024-11-14T00:00:00",
          "2024-11-15T00:00:00",
          "2024-11-16T00:00:00",
          "2024-11-17T00:00:00",
          "2024-11-18T00:00:00",
          "2024-11-19T00:00:00",
          "2024-11-20T00:00:00",
          "2024-11-21T00:00:00",
          "2024-11-22T00:00:00",
          "2024-11-23T00:00:00",
          "2024-11-24T00:00:00",
          "2024-11-25T00:00:00",
          "2024-11-26T00:00:00",
          "2024-11-27T00:00:00",
          "2024-11-28T00:00:00",
          "2024-11-29T00:00:00",
          "2024-11-30T00:00:00",
          "2024-12-01T00:00:00",
          "2024-12-02T00:00:00",
          "2024-12-03T00:00:00",
          "2024-12-04T00:00:00",
          "2024-12-05T00:00:00",
          "2024-12-06T00:00:00",
          "2024-12-07T00:00:00",
          "2024-12-08T00:00:00",
          "2024-12-09T00:00:00",
          "2024-12-10T00:00:00",
          "2024-12-11T00:00:00",
          "2024-12-12T00:00:00",
          "2024-12-13T00:00:00",
          "2024-12-14T00:00:00",
          "2024-12-15T00:00:00",
          "2024-12-16T00:00:00",
          "2024-12-17T00:00:00",
          "2024-12-18T00:00:00",
          "2024-12-19T00:00:00",
          "2024-12-20T00:00:00",
          "2024-12-21T00:00:00",
          "2024-12-22T00:00:00",
          "2024-12-23T00:00:00",
          "2024-12-24T00:00:00",
          "2024-12-25T00:00:00",
          "2024-12-26T00:00:00",
          "2024-12-27T00:00:00",
          "2024-12-28T00:00:00",
          "2024-12-29T00:00:00",
          "2024-12-30T00:00:00",
          "2024-12-31T00:00:00"
         ],
         "y": [
          268787200,
          285805400,
          278749100,
          277596900,
          268912700,
          253247900,
          324761200,
          190933100,
          193894100,
          204935000,
          198670200,
          195374000,
          263464900,
          290529300,
          193156600,
          200272000,
          194262500,
          191925700,
          197211000,
          255622100,
          323276800,
          193943800,
          206625600,
          196484200,
          196724300,
          207680900,
          254139400,
          332259400,
          198556100,
          193721800,
          194056000,
          253438800,
          252618500,
          356196100,
          459214000,
          248253000,
          179643600,
          180396000,
          181213300,
          188702200,
          233733100,
          294763900,
          186540600,
          186075100,
          186092000,
          184738300,
          179178600,
          237153600,
          295743200,
          179502800,
          182068200,
          182308900,
          185614700,
          177543200,
          235937300,
          303056700,
          178788400,
          177854400,
          181452400,
          181624800,
          701153400,
          973706900,
          1216936400,
          680381700,
          690445300,
          472664600,
          488686700,
          495720200,
          642533600,
          807536400,
          502091500,
          496280500,
          476938200,
          492303000,
          501108500,
          601790300,
          775123000,
          480033700,
          484510800,
          489307400,
          489085600,
          504696700,
          619333800,
          802982600,
          812123100,
          490237200,
          498059800,
          486788800,
          463530900,
          642804700,
          789585500,
          407467600,
          397917900,
          411738900,
          412638100,
          402717300,
          384131800,
          467271800,
          288225800,
          297922300,
          279467800,
          404534800,
          292437500,
          366737900,
          485103400,
          282479400,
          289709400,
          280541300,
          291811500,
          283394500,
          365986300,
          474685300,
          291915200,
          290124700,
          293293800,
          294373300,
          285421600,
          389025700,
          490629200,
          293334700,
          274830500,
          250425900,
          245566600,
          247045300,
          363071200,
          457539900,
          184172700,
          182698100,
          177637100,
          186225900,
          173810100,
          223575900,
          293808300,
          174600300,
          178119600,
          182824900,
          176080600,
          182399300,
          229868600,
          292313300,
          171127300,
          179961300,
          185017300,
          174850600,
          181125900,
          236772500,
          300642800,
          186736400,
          177434000,
          182840000,
          175981200,
          182407400,
          503475400,
          653386700,
          355591100,
          356490500,
          349227700,
          203019000,
          205010500,
          265432700,
          421852300,
          253290300,
          249949100,
          247592800,
          253434600,
          252711500,
          326939600,
          403500800,
          248240700,
          248065100,
          261688800,
          252242800,
          245350000,
          317353300,
          416594700,
          253890300,
          251155200,
          252782500,
          250569100,
          251624600,
          326198400,
          422968300,
          319661000,
          314511700,
          317634600,
          322838100,
          316318400,
          251554100,
          276706000,
          186064100,
          229594500,
          226932400,
          229595300,
          235092600,
          297640500,
          389610300,
          224130100,
          227977200,
          227515500,
          235125800,
          236162900,
          306158800,
          387999100,
          226376700,
          232828100,
          234911600,
          240091800,
          237989600,
          299843000,
          385796100,
          237571500,
          230461900,
          228623900,
          296876600,
          438412200,
          617088800,
          784833900,
          429685200,
          304882000,
          215342400,
          294409100,
          306301100,
          399845000,
          503024900,
          313043000,
          298755000,
          300503600,
          295246100,
          308672700,
          397684500,
          519150600,
          335498000,
          310154400,
          306338400,
          214379400,
          302011500,
          403521800,
          508788400,
          299205000,
          304558000,
          212918400,
          305178100,
          300484300,
          394878600,
          627363800,
          355027900,
          363944100,
          350099000,
          357991000,
          256202800,
          318296500,
          407133800,
          247056800,
          257759100,
          242409300,
          246644300,
          255114400,
          321818400,
          430061700,
          252228700,
          255074900,
          248660400,
          246246000,
          248735500,
          321647700,
          408523000,
          251227000,
          244480500,
          245323600,
          242178900,
          254399700,
          328233600,
          423212900,
          252565500,
          437217600,
          416032800,
          432535100,
          439558400,
          629353100,
          514892600,
          304350700,
          308818100,
          308683800,
          307185900,
          315303800,
          480055500,
          485543900,
          307128600,
          302832700,
          309928300,
          311750100,
          308314500,
          403320200,
          513042700,
          304802800,
          312012800,
          303779000,
          308335900,
          304910600,
          402667400,
          513943400,
          300396000,
          308473100,
          306053000,
          297768600,
          1445251600,
          1024451600,
          1589350500,
          725930600,
          749614300,
          518876400,
          520348300,
          538187800,
          682671400,
          872519700,
          523882500,
          530795500,
          508542700,
          533554000,
          540128600,
          678333000,
          850468200,
          514299000,
          516849500,
          503519200,
          532126400,
          532991700,
          674427200,
          854476300,
          517904300,
          525130600,
          508574700,
          528426700,
          520368700,
          675710000,
          599485200,
          331228000,
          316552800,
          320741000,
          327388800,
          235389600,
          301867900,
          386958900,
          229950500,
          227990100,
          239654900,
          236626300,
          234191800,
          300135300,
          389327600,
          227909200,
          233332000,
          227739300,
          230587500,
          160412600,
          215916000,
          265837300,
          164774900,
          160735700,
          134615400,
          163626400,
          160525500,
          215168000,
          271023700,
          162951700,
          164463500
         ]
        },
        {
         "line": {
          "color": "blue"
         },
         "mode": "lines+markers",
         "name": "Auto ARIMA Predictions (Jan 2025)",
         "type": "scatter",
         "x": [
          "2025-01-01T00:00:00",
          "2025-01-02T00:00:00",
          "2025-01-03T00:00:00",
          "2025-01-04T00:00:00",
          "2025-01-05T00:00:00",
          "2025-01-06T00:00:00",
          "2025-01-07T00:00:00",
          "2025-01-08T00:00:00",
          "2025-01-09T00:00:00",
          "2025-01-10T00:00:00",
          "2025-01-11T00:00:00",
          "2025-01-12T00:00:00",
          "2025-01-13T00:00:00",
          "2025-01-14T00:00:00",
          "2025-01-15T00:00:00",
          "2025-01-16T00:00:00",
          "2025-01-17T00:00:00",
          "2025-01-18T00:00:00",
          "2025-01-19T00:00:00",
          "2025-01-20T00:00:00",
          "2025-01-21T00:00:00",
          "2025-01-22T00:00:00",
          "2025-01-23T00:00:00",
          "2025-01-24T00:00:00",
          "2025-01-25T00:00:00",
          "2025-01-26T00:00:00",
          "2025-01-27T00:00:00",
          "2025-01-28T00:00:00",
          "2025-01-29T00:00:00",
          "2025-01-30T00:00:00",
          "2025-01-31T00:00:00"
         ],
         "y": [
          180852159.56503108,
          215153508.20499828,
          220322245.2296339,
          274229461.0422785,
          322751877.54913044,
          240592140.4264072,
          243097794.59006572,
          245840692.12118813,
          265509823.75894997,
          260677066.92316154,
          300686147.1534569,
          338100788.4328977,
          267945871.4532378,
          268964517.3603876,
          270784031.33302534,
          286806394.3095235,
          282654315.4075856,
          315888106.1664974,
          347106449.8382407,
          288471383.8729362,
          289338197.5513617,
          290814044.39320767,
          304208561.12811244,
          300715551.68944114,
          328473932.26253086,
          354513053.4526887,
          305584889.84277755,
          306294894.7531631,
          307537884.3121009,
          318708344.51367545,
          315801121.4862061
         ]
        },
        {
         "line": {
          "color": "red"
         },
         "mode": "lines+markers",
         "name": "SARIMAX Predictions (Jan 2025)",
         "type": "scatter",
         "x": [
          "2025-01-01T00:00:00",
          "2025-01-02T00:00:00",
          "2025-01-03T00:00:00",
          "2025-01-04T00:00:00",
          "2025-01-05T00:00:00",
          "2025-01-06T00:00:00",
          "2025-01-07T00:00:00",
          "2025-01-08T00:00:00",
          "2025-01-09T00:00:00",
          "2025-01-10T00:00:00",
          "2025-01-11T00:00:00",
          "2025-01-12T00:00:00",
          "2025-01-13T00:00:00",
          "2025-01-14T00:00:00",
          "2025-01-15T00:00:00",
          "2025-01-16T00:00:00",
          "2025-01-17T00:00:00",
          "2025-01-18T00:00:00",
          "2025-01-19T00:00:00",
          "2025-01-20T00:00:00",
          "2025-01-21T00:00:00",
          "2025-01-22T00:00:00",
          "2025-01-23T00:00:00",
          "2025-01-24T00:00:00",
          "2025-01-25T00:00:00",
          "2025-01-26T00:00:00",
          "2025-01-27T00:00:00",
          "2025-01-28T00:00:00",
          "2025-01-29T00:00:00",
          "2025-01-30T00:00:00",
          "2025-01-31T00:00:00"
         ],
         "y": [
          138889821.08641684,
          151330202.06115672,
          157234708.25174642,
          243831842.99512374,
          313707359.2460819,
          142913120.9162573,
          145458879.69427845,
          127323090.39471325,
          136494427.70099497,
          145782156.30496764,
          239237451.38899374,
          312354148.53088295,
          130803260.23588425,
          133836355.4496927,
          117226738.3395609,
          125941481.74287128,
          135915040.455286,
          230649488.2426581,
          304379490.34254205,
          120924527.8340218,
          124058548.14263406,
          107730909.26632518,
          116369022.58904007,
          126468977.07087389,
          221434723.0739786,
          295276005.3734322,
          111481189.3820579,
          114633895.1829399,
          98357127.64273845,
          106981780.90580848,
          117104524.26925106
         ]
        }
       ],
       "layout": {
        "legend": {
         "title": {
          "text": "Legend"
         }
        },
        "template": {
         "data": {
          "bar": [
           {
            "error_x": {
             "color": "#2a3f5f"
            },
            "error_y": {
             "color": "#2a3f5f"
            },
            "marker": {
             "line": {
              "color": "white",
              "width": 0.5
             },
             "pattern": {
              "fillmode": "overlay",
              "size": 10,
              "solidity": 0.2
             }
            },
            "type": "bar"
           }
          ],
          "barpolar": [
           {
            "marker": {
             "line": {
              "color": "white",
              "width": 0.5
             },
             "pattern": {
              "fillmode": "overlay",
              "size": 10,
              "solidity": 0.2
             }
            },
            "type": "barpolar"
           }
          ],
          "carpet": [
           {
            "aaxis": {
             "endlinecolor": "#2a3f5f",
             "gridcolor": "#C8D4E3",
             "linecolor": "#C8D4E3",
             "minorgridcolor": "#C8D4E3",
             "startlinecolor": "#2a3f5f"
            },
            "baxis": {
             "endlinecolor": "#2a3f5f",
             "gridcolor": "#C8D4E3",
             "linecolor": "#C8D4E3",
             "minorgridcolor": "#C8D4E3",
             "startlinecolor": "#2a3f5f"
            },
            "type": "carpet"
           }
          ],
          "choropleth": [
           {
            "colorbar": {
             "outlinewidth": 0,
             "ticks": ""
            },
            "type": "choropleth"
           }
          ],
          "contour": [
           {
            "colorbar": {
             "outlinewidth": 0,
             "ticks": ""
            },
            "colorscale": [
             [
              0,
              "#0d0887"
             ],
             [
              0.1111111111111111,
              "#46039f"
             ],
             [
              0.2222222222222222,
              "#7201a8"
             ],
             [
              0.3333333333333333,
              "#9c179e"
             ],
             [
              0.4444444444444444,
              "#bd3786"
             ],
             [
              0.5555555555555556,
              "#d8576b"
             ],
             [
              0.6666666666666666,
              "#ed7953"
             ],
             [
              0.7777777777777778,
              "#fb9f3a"
             ],
             [
              0.8888888888888888,
              "#fdca26"
             ],
             [
              1,
              "#f0f921"
             ]
            ],
            "type": "contour"
           }
          ],
          "contourcarpet": [
           {
            "colorbar": {
             "outlinewidth": 0,
             "ticks": ""
            },
            "type": "contourcarpet"
           }
          ],
          "heatmap": [
           {
            "colorbar": {
             "outlinewidth": 0,
             "ticks": ""
            },
            "colorscale": [
             [
              0,
              "#0d0887"
             ],
             [
              0.1111111111111111,
              "#46039f"
             ],
             [
              0.2222222222222222,
              "#7201a8"
             ],
             [
              0.3333333333333333,
              "#9c179e"
             ],
             [
              0.4444444444444444,
              "#bd3786"
             ],
             [
              0.5555555555555556,
              "#d8576b"
             ],
             [
              0.6666666666666666,
              "#ed7953"
             ],
             [
              0.7777777777777778,
              "#fb9f3a"
             ],
             [
              0.8888888888888888,
              "#fdca26"
             ],
             [
              1,
              "#f0f921"
             ]
            ],
            "type": "heatmap"
           }
          ],
          "heatmapgl": [
           {
            "colorbar": {
             "outlinewidth": 0,
             "ticks": ""
            },
            "colorscale": [
             [
              0,
              "#0d0887"
             ],
             [
              0.1111111111111111,
              "#46039f"
             ],
             [
              0.2222222222222222,
              "#7201a8"
             ],
             [
              0.3333333333333333,
              "#9c179e"
             ],
             [
              0.4444444444444444,
              "#bd3786"
             ],
             [
              0.5555555555555556,
              "#d8576b"
             ],
             [
              0.6666666666666666,
              "#ed7953"
             ],
             [
              0.7777777777777778,
              "#fb9f3a"
             ],
             [
              0.8888888888888888,
              "#fdca26"
             ],
             [
              1,
              "#f0f921"
             ]
            ],
            "type": "heatmapgl"
           }
          ],
          "histogram": [
           {
            "marker": {
             "pattern": {
              "fillmode": "overlay",
              "size": 10,
              "solidity": 0.2
             }
            },
            "type": "histogram"
           }
          ],
          "histogram2d": [
           {
            "colorbar": {
             "outlinewidth": 0,
             "ticks": ""
            },
            "colorscale": [
             [
              0,
              "#0d0887"
             ],
             [
              0.1111111111111111,
              "#46039f"
             ],
             [
              0.2222222222222222,
              "#7201a8"
             ],
             [
              0.3333333333333333,
              "#9c179e"
             ],
             [
              0.4444444444444444,
              "#bd3786"
             ],
             [
              0.5555555555555556,
              "#d8576b"
             ],
             [
              0.6666666666666666,
              "#ed7953"
             ],
             [
              0.7777777777777778,
              "#fb9f3a"
             ],
             [
              0.8888888888888888,
              "#fdca26"
             ],
             [
              1,
              "#f0f921"
             ]
            ],
            "type": "histogram2d"
           }
          ],
          "histogram2dcontour": [
           {
            "colorbar": {
             "outlinewidth": 0,
             "ticks": ""
            },
            "colorscale": [
             [
              0,
              "#0d0887"
             ],
             [
              0.1111111111111111,
              "#46039f"
             ],
             [
              0.2222222222222222,
              "#7201a8"
             ],
             [
              0.3333333333333333,
              "#9c179e"
             ],
             [
              0.4444444444444444,
              "#bd3786"
             ],
             [
              0.5555555555555556,
              "#d8576b"
             ],
             [
              0.6666666666666666,
              "#ed7953"
             ],
             [
              0.7777777777777778,
              "#fb9f3a"
             ],
             [
              0.8888888888888888,
              "#fdca26"
             ],
             [
              1,
              "#f0f921"
             ]
            ],
            "type": "histogram2dcontour"
           }
          ],
          "mesh3d": [
           {
            "colorbar": {
             "outlinewidth": 0,
             "ticks": ""
            },
            "type": "mesh3d"
           }
          ],
          "parcoords": [
           {
            "line": {
             "colorbar": {
              "outlinewidth": 0,
              "ticks": ""
             }
            },
            "type": "parcoords"
           }
          ],
          "pie": [
           {
            "automargin": true,
            "type": "pie"
           }
          ],
          "scatter": [
           {
            "fillpattern": {
             "fillmode": "overlay",
             "size": 10,
             "solidity": 0.2
            },
            "type": "scatter"
           }
          ],
          "scatter3d": [
           {
            "line": {
             "colorbar": {
              "outlinewidth": 0,
              "ticks": ""
             }
            },
            "marker": {
             "colorbar": {
              "outlinewidth": 0,
              "ticks": ""
             }
            },
            "type": "scatter3d"
           }
          ],
          "scattercarpet": [
           {
            "marker": {
             "colorbar": {
              "outlinewidth": 0,
              "ticks": ""
             }
            },
            "type": "scattercarpet"
           }
          ],
          "scattergeo": [
           {
            "marker": {
             "colorbar": {
              "outlinewidth": 0,
              "ticks": ""
             }
            },
            "type": "scattergeo"
           }
          ],
          "scattergl": [
           {
            "marker": {
             "colorbar": {
              "outlinewidth": 0,
              "ticks": ""
             }
            },
            "type": "scattergl"
           }
          ],
          "scattermapbox": [
           {
            "marker": {
             "colorbar": {
              "outlinewidth": 0,
              "ticks": ""
             }
            },
            "type": "scattermapbox"
           }
          ],
          "scatterpolar": [
           {
            "marker": {
             "colorbar": {
              "outlinewidth": 0,
              "ticks": ""
             }
            },
            "type": "scatterpolar"
           }
          ],
          "scatterpolargl": [
           {
            "marker": {
             "colorbar": {
              "outlinewidth": 0,
              "ticks": ""
             }
            },
            "type": "scatterpolargl"
           }
          ],
          "scatterternary": [
           {
            "marker": {
             "colorbar": {
              "outlinewidth": 0,
              "ticks": ""
             }
            },
            "type": "scatterternary"
           }
          ],
          "surface": [
           {
            "colorbar": {
             "outlinewidth": 0,
             "ticks": ""
            },
            "colorscale": [
             [
              0,
              "#0d0887"
             ],
             [
              0.1111111111111111,
              "#46039f"
             ],
             [
              0.2222222222222222,
              "#7201a8"
             ],
             [
              0.3333333333333333,
              "#9c179e"
             ],
             [
              0.4444444444444444,
              "#bd3786"
             ],
             [
              0.5555555555555556,
              "#d8576b"
             ],
             [
              0.6666666666666666,
              "#ed7953"
             ],
             [
              0.7777777777777778,
              "#fb9f3a"
             ],
             [
              0.8888888888888888,
              "#fdca26"
             ],
             [
              1,
              "#f0f921"
             ]
            ],
            "type": "surface"
           }
          ],
          "table": [
           {
            "cells": {
             "fill": {
              "color": "#EBF0F8"
             },
             "line": {
              "color": "white"
             }
            },
            "header": {
             "fill": {
              "color": "#C8D4E3"
             },
             "line": {
              "color": "white"
             }
            },
            "type": "table"
           }
          ]
         },
         "layout": {
          "annotationdefaults": {
           "arrowcolor": "#2a3f5f",
           "arrowhead": 0,
           "arrowwidth": 1
          },
          "autotypenumbers": "strict",
          "coloraxis": {
           "colorbar": {
            "outlinewidth": 0,
            "ticks": ""
           }
          },
          "colorscale": {
           "diverging": [
            [
             0,
             "#8e0152"
            ],
            [
             0.1,
             "#c51b7d"
            ],
            [
             0.2,
             "#de77ae"
            ],
            [
             0.3,
             "#f1b6da"
            ],
            [
             0.4,
             "#fde0ef"
            ],
            [
             0.5,
             "#f7f7f7"
            ],
            [
             0.6,
             "#e6f5d0"
            ],
            [
             0.7,
             "#b8e186"
            ],
            [
             0.8,
             "#7fbc41"
            ],
            [
             0.9,
             "#4d9221"
            ],
            [
             1,
             "#276419"
            ]
           ],
           "sequential": [
            [
             0,
             "#0d0887"
            ],
            [
             0.1111111111111111,
             "#46039f"
            ],
            [
             0.2222222222222222,
             "#7201a8"
            ],
            [
             0.3333333333333333,
             "#9c179e"
            ],
            [
             0.4444444444444444,
             "#bd3786"
            ],
            [
             0.5555555555555556,
             "#d8576b"
            ],
            [
             0.6666666666666666,
             "#ed7953"
            ],
            [
             0.7777777777777778,
             "#fb9f3a"
            ],
            [
             0.8888888888888888,
             "#fdca26"
            ],
            [
             1,
             "#f0f921"
            ]
           ],
           "sequentialminus": [
            [
             0,
             "#0d0887"
            ],
            [
             0.1111111111111111,
             "#46039f"
            ],
            [
             0.2222222222222222,
             "#7201a8"
            ],
            [
             0.3333333333333333,
             "#9c179e"
            ],
            [
             0.4444444444444444,
             "#bd3786"
            ],
            [
             0.5555555555555556,
             "#d8576b"
            ],
            [
             0.6666666666666666,
             "#ed7953"
            ],
            [
             0.7777777777777778,
             "#fb9f3a"
            ],
            [
             0.8888888888888888,
             "#fdca26"
            ],
            [
             1,
             "#f0f921"
            ]
           ]
          },
          "colorway": [
           "#636efa",
           "#EF553B",
           "#00cc96",
           "#ab63fa",
           "#FFA15A",
           "#19d3f3",
           "#FF6692",
           "#B6E880",
           "#FF97FF",
           "#FECB52"
          ],
          "font": {
           "color": "#2a3f5f"
          },
          "geo": {
           "bgcolor": "white",
           "lakecolor": "white",
           "landcolor": "white",
           "showlakes": true,
           "showland": true,
           "subunitcolor": "#C8D4E3"
          },
          "hoverlabel": {
           "align": "left"
          },
          "hovermode": "closest",
          "mapbox": {
           "style": "light"
          },
          "paper_bgcolor": "white",
          "plot_bgcolor": "white",
          "polar": {
           "angularaxis": {
            "gridcolor": "#EBF0F8",
            "linecolor": "#EBF0F8",
            "ticks": ""
           },
           "bgcolor": "white",
           "radialaxis": {
            "gridcolor": "#EBF0F8",
            "linecolor": "#EBF0F8",
            "ticks": ""
           }
          },
          "scene": {
           "xaxis": {
            "backgroundcolor": "white",
            "gridcolor": "#DFE8F3",
            "gridwidth": 2,
            "linecolor": "#EBF0F8",
            "showbackground": true,
            "ticks": "",
            "zerolinecolor": "#EBF0F8"
           },
           "yaxis": {
            "backgroundcolor": "white",
            "gridcolor": "#DFE8F3",
            "gridwidth": 2,
            "linecolor": "#EBF0F8",
            "showbackground": true,
            "ticks": "",
            "zerolinecolor": "#EBF0F8"
           },
           "zaxis": {
            "backgroundcolor": "white",
            "gridcolor": "#DFE8F3",
            "gridwidth": 2,
            "linecolor": "#EBF0F8",
            "showbackground": true,
            "ticks": "",
            "zerolinecolor": "#EBF0F8"
           }
          },
          "shapedefaults": {
           "line": {
            "color": "#2a3f5f"
           }
          },
          "ternary": {
           "aaxis": {
            "gridcolor": "#DFE8F3",
            "linecolor": "#A2B1C6",
            "ticks": ""
           },
           "baxis": {
            "gridcolor": "#DFE8F3",
            "linecolor": "#A2B1C6",
            "ticks": ""
           },
           "bgcolor": "white",
           "caxis": {
            "gridcolor": "#DFE8F3",
            "linecolor": "#A2B1C6",
            "ticks": ""
           }
          },
          "title": {
           "x": 0.05
          },
          "xaxis": {
           "automargin": true,
           "gridcolor": "#EBF0F8",
           "linecolor": "#EBF0F8",
           "ticks": "",
           "title": {
            "standoff": 15
           },
           "zerolinecolor": "#EBF0F8",
           "zerolinewidth": 2
          },
          "yaxis": {
           "automargin": true,
           "gridcolor": "#EBF0F8",
           "linecolor": "#EBF0F8",
           "ticks": "",
           "title": {
            "standoff": 15
           },
           "zerolinecolor": "#EBF0F8",
           "zerolinewidth": 2
          }
         }
        },
        "title": {
         "text": "Comparison of Two-Year Transactions and January 2025 Predictions"
        },
        "xaxis": {
         "title": {
          "text": "Date"
         }
        },
        "yaxis": {
         "title": {
          "text": "Transaction Amount"
         }
        }
       }
      }
     },
     "metadata": {},
     "output_type": "display_data"
    }
   ],
   "source": [
    "import plotly.graph_objects as go\n",
    "\n",
    "# Predict January 2025 using both models\n",
    "# Create exogenous variables for January 2025\n",
    "january_2025_exog = pd.DataFrame({\n",
    "\t'is_salary_day': [1 if day <= 8 else 0 for day in range(1, 32)],\n",
    "\t'is_holiday': [0] * 31  # Assuming no holidays in January 2025; update if needed\n",
    "})\n",
    "\n",
    "# Predict January 2025 using both models\n",
    "january_2025_forecast = pd.DataFrame({\n",
    "\t'Date': pd.date_range(start='2025-01-01', end='2025-01-31', freq='D'),\n",
    "\t'Auto_ARIMA_Forecast': Auto_arima_model.predict(n_periods=31),\n",
    "\t'SARIMAX_Forecast': Sarimax_model_fit.get_forecast(steps=31, exog=january_2025_exog).predicted_mean\n",
    "})\n",
    "\n",
    "# Create a comparison graph for two-year transaction amounts and predictions\n",
    "fig = go.Figure()\n",
    "\n",
    "# Add actual transaction amounts for 2023 and 2024\n",
    "fig.add_trace(go.Scatter(\n",
    "\tx=time_series_data.index,\n",
    "\ty=time_series_data['Transaction_Amount'],\n",
    "\tmode='lines',\n",
    "\tname='Actual Transactions (2023-2024)',\n",
    "\tline=dict(color='green')\n",
    "))\n",
    "\n",
    "# Add Auto ARIMA predictions for January 2025\n",
    "fig.add_trace(go.Scatter(\n",
    "\tx=january_2025_forecast['Date'],\n",
    "\ty=january_2025_forecast['Auto_ARIMA_Forecast'],\n",
    "\tmode='lines+markers',\n",
    "\tname='Auto ARIMA Predictions (Jan 2025)',\n",
    "\tline=dict(color='blue')\n",
    "))\n",
    "\n",
    "# Add SARIMAX predictions for January 2025\n",
    "fig.add_trace(go.Scatter(\n",
    "\tx=january_2025_forecast['Date'],\n",
    "\ty=january_2025_forecast['SARIMAX_Forecast'],\n",
    "\tmode='lines+markers',\n",
    "\tname='SARIMAX Predictions (Jan 2025)',\n",
    "\tline=dict(color='red')\n",
    "))\n",
    "\n",
    "# Customize the layout\n",
    "fig.update_layout(\n",
    "\ttitle='Comparison of Two-Year Transactions and January 2025 Predictions',\n",
    "\txaxis_title='Date',\n",
    "\tyaxis_title='Transaction Amount',\n",
    "\tlegend_title='Legend',\n",
    "\ttemplate='plotly_white'\n",
    ")\n",
    "\n",
    "# Show the graph\n",
    "fig.show()"
   ]
  },
  {
   "cell_type": "code",
   "execution_count": 26,
   "id": "d6f876fb",
   "metadata": {},
   "outputs": [
    {
     "data": {
      "application/vnd.plotly.v1+json": {
       "config": {
        "plotlyServerURL": "https://plot.ly"
       },
       "data": [
        {
         "line": {
          "color": "blue"
         },
         "mode": "lines",
         "name": "Actual",
         "type": "scatter",
         "x": [
          "2024-01-01T00:00:00",
          "2024-01-02T00:00:00",
          "2024-01-03T00:00:00",
          "2024-01-04T00:00:00",
          "2024-01-05T00:00:00",
          "2024-01-06T00:00:00",
          "2024-01-07T00:00:00",
          "2024-01-08T00:00:00",
          "2024-01-09T00:00:00",
          "2024-01-10T00:00:00",
          "2024-01-11T00:00:00",
          "2024-01-12T00:00:00",
          "2024-01-13T00:00:00",
          "2024-01-14T00:00:00",
          "2024-01-15T00:00:00",
          "2024-01-16T00:00:00",
          "2024-01-17T00:00:00",
          "2024-01-18T00:00:00",
          "2024-01-19T00:00:00",
          "2024-01-20T00:00:00",
          "2024-01-21T00:00:00",
          "2024-01-22T00:00:00",
          "2024-01-23T00:00:00",
          "2024-01-24T00:00:00",
          "2024-01-25T00:00:00",
          "2024-01-26T00:00:00",
          "2024-01-27T00:00:00",
          "2024-01-28T00:00:00",
          "2024-01-29T00:00:00",
          "2024-01-30T00:00:00",
          "2024-01-31T00:00:00",
          "2024-02-01T00:00:00",
          "2024-02-02T00:00:00",
          "2024-02-03T00:00:00",
          "2024-02-04T00:00:00",
          "2024-02-05T00:00:00",
          "2024-02-06T00:00:00",
          "2024-02-07T00:00:00",
          "2024-02-08T00:00:00",
          "2024-02-09T00:00:00",
          "2024-02-10T00:00:00",
          "2024-02-11T00:00:00",
          "2024-02-12T00:00:00",
          "2024-02-13T00:00:00",
          "2024-02-14T00:00:00",
          "2024-02-15T00:00:00",
          "2024-02-16T00:00:00",
          "2024-02-17T00:00:00",
          "2024-02-18T00:00:00",
          "2024-02-19T00:00:00",
          "2024-02-20T00:00:00",
          "2024-02-21T00:00:00",
          "2024-02-22T00:00:00",
          "2024-02-23T00:00:00",
          "2024-02-24T00:00:00",
          "2024-02-25T00:00:00",
          "2024-02-26T00:00:00",
          "2024-02-27T00:00:00",
          "2024-02-28T00:00:00",
          "2024-02-29T00:00:00",
          "2024-03-01T00:00:00",
          "2024-03-02T00:00:00",
          "2024-03-03T00:00:00",
          "2024-03-04T00:00:00",
          "2024-03-05T00:00:00",
          "2024-03-06T00:00:00",
          "2024-03-07T00:00:00",
          "2024-03-08T00:00:00",
          "2024-03-09T00:00:00",
          "2024-03-10T00:00:00",
          "2024-03-11T00:00:00",
          "2024-03-12T00:00:00",
          "2024-03-13T00:00:00",
          "2024-03-14T00:00:00",
          "2024-03-15T00:00:00",
          "2024-03-16T00:00:00",
          "2024-03-17T00:00:00",
          "2024-03-18T00:00:00",
          "2024-03-19T00:00:00",
          "2024-03-20T00:00:00",
          "2024-03-21T00:00:00",
          "2024-03-22T00:00:00",
          "2024-03-23T00:00:00",
          "2024-03-24T00:00:00",
          "2024-03-25T00:00:00",
          "2024-03-26T00:00:00",
          "2024-03-27T00:00:00",
          "2024-03-28T00:00:00",
          "2024-03-29T00:00:00",
          "2024-03-30T00:00:00",
          "2024-03-31T00:00:00",
          "2024-04-01T00:00:00",
          "2024-04-02T00:00:00",
          "2024-04-03T00:00:00",
          "2024-04-04T00:00:00",
          "2024-04-05T00:00:00",
          "2024-04-06T00:00:00",
          "2024-04-07T00:00:00",
          "2024-04-08T00:00:00",
          "2024-04-09T00:00:00",
          "2024-04-10T00:00:00",
          "2024-04-11T00:00:00",
          "2024-04-12T00:00:00",
          "2024-04-13T00:00:00",
          "2024-04-14T00:00:00",
          "2024-04-15T00:00:00",
          "2024-04-16T00:00:00",
          "2024-04-17T00:00:00",
          "2024-04-18T00:00:00",
          "2024-04-19T00:00:00",
          "2024-04-20T00:00:00",
          "2024-04-21T00:00:00",
          "2024-04-22T00:00:00",
          "2024-04-23T00:00:00",
          "2024-04-24T00:00:00",
          "2024-04-25T00:00:00",
          "2024-04-26T00:00:00",
          "2024-04-27T00:00:00",
          "2024-04-28T00:00:00",
          "2024-04-29T00:00:00",
          "2024-04-30T00:00:00",
          "2024-05-01T00:00:00",
          "2024-05-02T00:00:00",
          "2024-05-03T00:00:00",
          "2024-05-04T00:00:00",
          "2024-05-05T00:00:00",
          "2024-05-06T00:00:00",
          "2024-05-07T00:00:00",
          "2024-05-08T00:00:00",
          "2024-05-09T00:00:00",
          "2024-05-10T00:00:00",
          "2024-05-11T00:00:00",
          "2024-05-12T00:00:00",
          "2024-05-13T00:00:00",
          "2024-05-14T00:00:00",
          "2024-05-15T00:00:00",
          "2024-05-16T00:00:00",
          "2024-05-17T00:00:00",
          "2024-05-18T00:00:00",
          "2024-05-19T00:00:00",
          "2024-05-20T00:00:00",
          "2024-05-21T00:00:00",
          "2024-05-22T00:00:00",
          "2024-05-23T00:00:00",
          "2024-05-24T00:00:00",
          "2024-05-25T00:00:00",
          "2024-05-26T00:00:00",
          "2024-05-27T00:00:00",
          "2024-05-28T00:00:00",
          "2024-05-29T00:00:00",
          "2024-05-30T00:00:00",
          "2024-05-31T00:00:00",
          "2024-06-01T00:00:00",
          "2024-06-02T00:00:00",
          "2024-06-03T00:00:00",
          "2024-06-04T00:00:00",
          "2024-06-05T00:00:00",
          "2024-06-06T00:00:00",
          "2024-06-07T00:00:00",
          "2024-06-08T00:00:00",
          "2024-06-09T00:00:00",
          "2024-06-10T00:00:00",
          "2024-06-11T00:00:00",
          "2024-06-12T00:00:00",
          "2024-06-13T00:00:00",
          "2024-06-14T00:00:00",
          "2024-06-15T00:00:00",
          "2024-06-16T00:00:00",
          "2024-06-17T00:00:00",
          "2024-06-18T00:00:00",
          "2024-06-19T00:00:00",
          "2024-06-20T00:00:00",
          "2024-06-21T00:00:00",
          "2024-06-22T00:00:00",
          "2024-06-23T00:00:00",
          "2024-06-24T00:00:00",
          "2024-06-25T00:00:00",
          "2024-06-26T00:00:00",
          "2024-06-27T00:00:00",
          "2024-06-28T00:00:00",
          "2024-06-29T00:00:00",
          "2024-06-30T00:00:00",
          "2024-07-01T00:00:00",
          "2024-07-02T00:00:00",
          "2024-07-03T00:00:00",
          "2024-07-04T00:00:00",
          "2024-07-05T00:00:00",
          "2024-07-06T00:00:00",
          "2024-07-07T00:00:00",
          "2024-07-08T00:00:00",
          "2024-07-09T00:00:00",
          "2024-07-10T00:00:00",
          "2024-07-11T00:00:00",
          "2024-07-12T00:00:00",
          "2024-07-13T00:00:00",
          "2024-07-14T00:00:00",
          "2024-07-15T00:00:00",
          "2024-07-16T00:00:00",
          "2024-07-17T00:00:00",
          "2024-07-18T00:00:00",
          "2024-07-19T00:00:00",
          "2024-07-20T00:00:00",
          "2024-07-21T00:00:00",
          "2024-07-22T00:00:00",
          "2024-07-23T00:00:00",
          "2024-07-24T00:00:00",
          "2024-07-25T00:00:00",
          "2024-07-26T00:00:00",
          "2024-07-27T00:00:00",
          "2024-07-28T00:00:00",
          "2024-07-29T00:00:00",
          "2024-07-30T00:00:00",
          "2024-07-31T00:00:00",
          "2024-08-01T00:00:00",
          "2024-08-02T00:00:00",
          "2024-08-03T00:00:00",
          "2024-08-04T00:00:00",
          "2024-08-05T00:00:00",
          "2024-08-06T00:00:00",
          "2024-08-07T00:00:00",
          "2024-08-08T00:00:00",
          "2024-08-09T00:00:00",
          "2024-08-10T00:00:00",
          "2024-08-11T00:00:00",
          "2024-08-12T00:00:00",
          "2024-08-13T00:00:00",
          "2024-08-14T00:00:00",
          "2024-08-15T00:00:00",
          "2024-08-16T00:00:00",
          "2024-08-17T00:00:00",
          "2024-08-18T00:00:00",
          "2024-08-19T00:00:00",
          "2024-08-20T00:00:00",
          "2024-08-21T00:00:00",
          "2024-08-22T00:00:00",
          "2024-08-23T00:00:00",
          "2024-08-24T00:00:00",
          "2024-08-25T00:00:00",
          "2024-08-26T00:00:00",
          "2024-08-27T00:00:00",
          "2024-08-28T00:00:00",
          "2024-08-29T00:00:00",
          "2024-08-30T00:00:00",
          "2024-08-31T00:00:00",
          "2024-09-01T00:00:00",
          "2024-09-02T00:00:00",
          "2024-09-03T00:00:00",
          "2024-09-04T00:00:00",
          "2024-09-05T00:00:00",
          "2024-09-06T00:00:00",
          "2024-09-07T00:00:00",
          "2024-09-08T00:00:00",
          "2024-09-09T00:00:00",
          "2024-09-10T00:00:00",
          "2024-09-11T00:00:00",
          "2024-09-12T00:00:00",
          "2024-09-13T00:00:00",
          "2024-09-14T00:00:00",
          "2024-09-15T00:00:00",
          "2024-09-16T00:00:00",
          "2024-09-17T00:00:00",
          "2024-09-18T00:00:00",
          "2024-09-19T00:00:00",
          "2024-09-20T00:00:00",
          "2024-09-21T00:00:00",
          "2024-09-22T00:00:00",
          "2024-09-23T00:00:00",
          "2024-09-24T00:00:00",
          "2024-09-25T00:00:00",
          "2024-09-26T00:00:00",
          "2024-09-27T00:00:00",
          "2024-09-28T00:00:00",
          "2024-09-29T00:00:00",
          "2024-09-30T00:00:00",
          "2024-10-01T00:00:00",
          "2024-10-02T00:00:00",
          "2024-10-03T00:00:00",
          "2024-10-04T00:00:00",
          "2024-10-05T00:00:00",
          "2024-10-06T00:00:00",
          "2024-10-07T00:00:00",
          "2024-10-08T00:00:00",
          "2024-10-09T00:00:00",
          "2024-10-10T00:00:00",
          "2024-10-11T00:00:00",
          "2024-10-12T00:00:00",
          "2024-10-13T00:00:00",
          "2024-10-14T00:00:00",
          "2024-10-15T00:00:00",
          "2024-10-16T00:00:00",
          "2024-10-17T00:00:00",
          "2024-10-18T00:00:00",
          "2024-10-19T00:00:00",
          "2024-10-20T00:00:00",
          "2024-10-21T00:00:00",
          "2024-10-22T00:00:00",
          "2024-10-23T00:00:00",
          "2024-10-24T00:00:00",
          "2024-10-25T00:00:00",
          "2024-10-26T00:00:00",
          "2024-10-27T00:00:00",
          "2024-10-28T00:00:00",
          "2024-10-29T00:00:00",
          "2024-10-30T00:00:00",
          "2024-10-31T00:00:00",
          "2024-11-01T00:00:00",
          "2024-11-02T00:00:00",
          "2024-11-03T00:00:00",
          "2024-11-04T00:00:00",
          "2024-11-05T00:00:00",
          "2024-11-06T00:00:00",
          "2024-11-07T00:00:00",
          "2024-11-08T00:00:00",
          "2024-11-09T00:00:00",
          "2024-11-10T00:00:00",
          "2024-11-11T00:00:00",
          "2024-11-12T00:00:00",
          "2024-11-13T00:00:00",
          "2024-11-14T00:00:00",
          "2024-11-15T00:00:00",
          "2024-11-16T00:00:00",
          "2024-11-17T00:00:00",
          "2024-11-18T00:00:00",
          "2024-11-19T00:00:00",
          "2024-11-20T00:00:00",
          "2024-11-21T00:00:00",
          "2024-11-22T00:00:00",
          "2024-11-23T00:00:00",
          "2024-11-24T00:00:00",
          "2024-11-25T00:00:00",
          "2024-11-26T00:00:00",
          "2024-11-27T00:00:00",
          "2024-11-28T00:00:00",
          "2024-11-29T00:00:00",
          "2024-11-30T00:00:00",
          "2024-12-01T00:00:00",
          "2024-12-02T00:00:00",
          "2024-12-03T00:00:00",
          "2024-12-04T00:00:00",
          "2024-12-05T00:00:00",
          "2024-12-06T00:00:00",
          "2024-12-07T00:00:00",
          "2024-12-08T00:00:00",
          "2024-12-09T00:00:00",
          "2024-12-10T00:00:00",
          "2024-12-11T00:00:00",
          "2024-12-12T00:00:00",
          "2024-12-13T00:00:00",
          "2024-12-14T00:00:00",
          "2024-12-15T00:00:00",
          "2024-12-16T00:00:00",
          "2024-12-17T00:00:00",
          "2024-12-18T00:00:00",
          "2024-12-19T00:00:00",
          "2024-12-20T00:00:00",
          "2024-12-21T00:00:00",
          "2024-12-22T00:00:00",
          "2024-12-23T00:00:00",
          "2024-12-24T00:00:00",
          "2024-12-25T00:00:00",
          "2024-12-26T00:00:00",
          "2024-12-27T00:00:00",
          "2024-12-28T00:00:00",
          "2024-12-29T00:00:00",
          "2024-12-30T00:00:00",
          "2024-12-31T00:00:00"
         ],
         "y": [
          268787200,
          285805400,
          278749100,
          277596900,
          268912700,
          253247900,
          324761200,
          190933100,
          193894100,
          204935000,
          198670200,
          195374000,
          263464900,
          290529300,
          193156600,
          200272000,
          194262500,
          191925700,
          197211000,
          255622100,
          323276800,
          193943800,
          206625600,
          196484200,
          196724300,
          207680900,
          254139400,
          332259400,
          198556100,
          193721800,
          194056000,
          253438800,
          252618500,
          356196100,
          459214000,
          248253000,
          179643600,
          180396000,
          181213300,
          188702200,
          233733100,
          294763900,
          186540600,
          186075100,
          186092000,
          184738300,
          179178600,
          237153600,
          295743200,
          179502800,
          182068200,
          182308900,
          185614700,
          177543200,
          235937300,
          303056700,
          178788400,
          177854400,
          181452400,
          181624800,
          701153400,
          973706900,
          1216936400,
          680381700,
          690445300,
          472664600,
          488686700,
          495720200,
          642533600,
          807536400,
          502091500,
          496280500,
          476938200,
          492303000,
          501108500,
          601790300,
          775123000,
          480033700,
          484510800,
          489307400,
          489085600,
          504696700,
          619333800,
          802982600,
          812123100,
          490237200,
          498059800,
          486788800,
          463530900,
          642804700,
          789585500,
          407467600,
          397917900,
          411738900,
          412638100,
          402717300,
          384131800,
          467271800,
          288225800,
          297922300,
          279467800,
          404534800,
          292437500,
          366737900,
          485103400,
          282479400,
          289709400,
          280541300,
          291811500,
          283394500,
          365986300,
          474685300,
          291915200,
          290124700,
          293293800,
          294373300,
          285421600,
          389025700,
          490629200,
          293334700,
          274830500,
          250425900,
          245566600,
          247045300,
          363071200,
          457539900,
          184172700,
          182698100,
          177637100,
          186225900,
          173810100,
          223575900,
          293808300,
          174600300,
          178119600,
          182824900,
          176080600,
          182399300,
          229868600,
          292313300,
          171127300,
          179961300,
          185017300,
          174850600,
          181125900,
          236772500,
          300642800,
          186736400,
          177434000,
          182840000,
          175981200,
          182407400,
          503475400,
          653386700,
          355591100,
          356490500,
          349227700,
          203019000,
          205010500,
          265432700,
          421852300,
          253290300,
          249949100,
          247592800,
          253434600,
          252711500,
          326939600,
          403500800,
          248240700,
          248065100,
          261688800,
          252242800,
          245350000,
          317353300,
          416594700,
          253890300,
          251155200,
          252782500,
          250569100,
          251624600,
          326198400,
          422968300,
          319661000,
          314511700,
          317634600,
          322838100,
          316318400,
          251554100,
          276706000,
          186064100,
          229594500,
          226932400,
          229595300,
          235092600,
          297640500,
          389610300,
          224130100,
          227977200,
          227515500,
          235125800,
          236162900,
          306158800,
          387999100,
          226376700,
          232828100,
          234911600,
          240091800,
          237989600,
          299843000,
          385796100,
          237571500,
          230461900,
          228623900,
          296876600,
          438412200,
          617088800,
          784833900,
          429685200,
          304882000,
          215342400,
          294409100,
          306301100,
          399845000,
          503024900,
          313043000,
          298755000,
          300503600,
          295246100,
          308672700,
          397684500,
          519150600,
          335498000,
          310154400,
          306338400,
          214379400,
          302011500,
          403521800,
          508788400,
          299205000,
          304558000,
          212918400,
          305178100,
          300484300,
          394878600,
          627363800,
          355027900,
          363944100,
          350099000,
          357991000,
          256202800,
          318296500,
          407133800,
          247056800,
          257759100,
          242409300,
          246644300,
          255114400,
          321818400,
          430061700,
          252228700,
          255074900,
          248660400,
          246246000,
          248735500,
          321647700,
          408523000,
          251227000,
          244480500,
          245323600,
          242178900,
          254399700,
          328233600,
          423212900,
          252565500,
          437217600,
          416032800,
          432535100,
          439558400,
          629353100,
          514892600,
          304350700,
          308818100,
          308683800,
          307185900,
          315303800,
          480055500,
          485543900,
          307128600,
          302832700,
          309928300,
          311750100,
          308314500,
          403320200,
          513042700,
          304802800,
          312012800,
          303779000,
          308335900,
          304910600,
          402667400,
          513943400,
          300396000,
          308473100,
          306053000,
          297768600,
          1445251600,
          1024451600,
          1589350500,
          725930600,
          749614300,
          518876400,
          520348300,
          538187800,
          682671400,
          872519700,
          523882500,
          530795500,
          508542700,
          533554000,
          540128600,
          678333000,
          850468200,
          514299000,
          516849500,
          503519200,
          532126400,
          532991700,
          674427200,
          854476300,
          517904300,
          525130600,
          508574700,
          528426700,
          520368700,
          675710000,
          599485200,
          331228000,
          316552800,
          320741000,
          327388800,
          235389600,
          301867900,
          386958900,
          229950500,
          227990100,
          239654900,
          236626300,
          234191800,
          300135300,
          389327600,
          227909200,
          233332000,
          227739300,
          230587500,
          160412600,
          215916000,
          265837300,
          164774900,
          160735700,
          134615400,
          163626400,
          160525500,
          215168000,
          271023700,
          162951700,
          164463500
         ]
        },
        {
         "line": {
          "color": "red"
         },
         "mode": "lines",
         "name": "SARIMAX Predicted",
         "type": "scatter",
         "x": [
          "2024-01-01T00:00:00",
          "2024-01-02T00:00:00",
          "2024-01-03T00:00:00",
          "2024-01-04T00:00:00",
          "2024-01-05T00:00:00",
          "2024-01-06T00:00:00",
          "2024-01-07T00:00:00",
          "2024-01-08T00:00:00",
          "2024-01-09T00:00:00",
          "2024-01-10T00:00:00",
          "2024-01-11T00:00:00",
          "2024-01-12T00:00:00",
          "2024-01-13T00:00:00",
          "2024-01-14T00:00:00",
          "2024-01-15T00:00:00",
          "2024-01-16T00:00:00",
          "2024-01-17T00:00:00",
          "2024-01-18T00:00:00",
          "2024-01-19T00:00:00",
          "2024-01-20T00:00:00",
          "2024-01-21T00:00:00",
          "2024-01-22T00:00:00",
          "2024-01-23T00:00:00",
          "2024-01-24T00:00:00",
          "2024-01-25T00:00:00",
          "2024-01-26T00:00:00",
          "2024-01-27T00:00:00",
          "2024-01-28T00:00:00",
          "2024-01-29T00:00:00",
          "2024-01-30T00:00:00",
          "2024-01-31T00:00:00",
          "2024-02-01T00:00:00",
          "2024-02-02T00:00:00",
          "2024-02-03T00:00:00",
          "2024-02-04T00:00:00",
          "2024-02-05T00:00:00",
          "2024-02-06T00:00:00",
          "2024-02-07T00:00:00",
          "2024-02-08T00:00:00",
          "2024-02-09T00:00:00",
          "2024-02-10T00:00:00",
          "2024-02-11T00:00:00",
          "2024-02-12T00:00:00",
          "2024-02-13T00:00:00",
          "2024-02-14T00:00:00",
          "2024-02-15T00:00:00",
          "2024-02-16T00:00:00",
          "2024-02-17T00:00:00",
          "2024-02-18T00:00:00",
          "2024-02-19T00:00:00",
          "2024-02-20T00:00:00",
          "2024-02-21T00:00:00",
          "2024-02-22T00:00:00",
          "2024-02-23T00:00:00",
          "2024-02-24T00:00:00",
          "2024-02-25T00:00:00",
          "2024-02-26T00:00:00",
          "2024-02-27T00:00:00",
          "2024-02-28T00:00:00",
          "2024-02-29T00:00:00",
          "2024-03-01T00:00:00",
          "2024-03-02T00:00:00",
          "2024-03-03T00:00:00",
          "2024-03-04T00:00:00",
          "2024-03-05T00:00:00",
          "2024-03-06T00:00:00",
          "2024-03-07T00:00:00",
          "2024-03-08T00:00:00",
          "2024-03-09T00:00:00",
          "2024-03-10T00:00:00",
          "2024-03-11T00:00:00",
          "2024-03-12T00:00:00",
          "2024-03-13T00:00:00",
          "2024-03-14T00:00:00",
          "2024-03-15T00:00:00",
          "2024-03-16T00:00:00",
          "2024-03-17T00:00:00",
          "2024-03-18T00:00:00",
          "2024-03-19T00:00:00",
          "2024-03-20T00:00:00",
          "2024-03-21T00:00:00",
          "2024-03-22T00:00:00",
          "2024-03-23T00:00:00",
          "2024-03-24T00:00:00",
          "2024-03-25T00:00:00",
          "2024-03-26T00:00:00",
          "2024-03-27T00:00:00",
          "2024-03-28T00:00:00",
          "2024-03-29T00:00:00",
          "2024-03-30T00:00:00",
          "2024-03-31T00:00:00",
          "2024-04-01T00:00:00",
          "2024-04-02T00:00:00",
          "2024-04-03T00:00:00",
          "2024-04-04T00:00:00",
          "2024-04-05T00:00:00",
          "2024-04-06T00:00:00",
          "2024-04-07T00:00:00",
          "2024-04-08T00:00:00",
          "2024-04-09T00:00:00",
          "2024-04-10T00:00:00",
          "2024-04-11T00:00:00",
          "2024-04-12T00:00:00",
          "2024-04-13T00:00:00",
          "2024-04-14T00:00:00",
          "2024-04-15T00:00:00",
          "2024-04-16T00:00:00",
          "2024-04-17T00:00:00",
          "2024-04-18T00:00:00",
          "2024-04-19T00:00:00",
          "2024-04-20T00:00:00",
          "2024-04-21T00:00:00",
          "2024-04-22T00:00:00",
          "2024-04-23T00:00:00",
          "2024-04-24T00:00:00",
          "2024-04-25T00:00:00",
          "2024-04-26T00:00:00",
          "2024-04-27T00:00:00",
          "2024-04-28T00:00:00",
          "2024-04-29T00:00:00",
          "2024-04-30T00:00:00",
          "2024-05-01T00:00:00",
          "2024-05-02T00:00:00",
          "2024-05-03T00:00:00",
          "2024-05-04T00:00:00",
          "2024-05-05T00:00:00",
          "2024-05-06T00:00:00",
          "2024-05-07T00:00:00",
          "2024-05-08T00:00:00",
          "2024-05-09T00:00:00",
          "2024-05-10T00:00:00",
          "2024-05-11T00:00:00",
          "2024-05-12T00:00:00",
          "2024-05-13T00:00:00",
          "2024-05-14T00:00:00",
          "2024-05-15T00:00:00",
          "2024-05-16T00:00:00",
          "2024-05-17T00:00:00",
          "2024-05-18T00:00:00",
          "2024-05-19T00:00:00",
          "2024-05-20T00:00:00",
          "2024-05-21T00:00:00",
          "2024-05-22T00:00:00",
          "2024-05-23T00:00:00",
          "2024-05-24T00:00:00",
          "2024-05-25T00:00:00",
          "2024-05-26T00:00:00",
          "2024-05-27T00:00:00",
          "2024-05-28T00:00:00",
          "2024-05-29T00:00:00",
          "2024-05-30T00:00:00",
          "2024-05-31T00:00:00",
          "2024-06-01T00:00:00",
          "2024-06-02T00:00:00",
          "2024-06-03T00:00:00",
          "2024-06-04T00:00:00",
          "2024-06-05T00:00:00",
          "2024-06-06T00:00:00",
          "2024-06-07T00:00:00",
          "2024-06-08T00:00:00",
          "2024-06-09T00:00:00",
          "2024-06-10T00:00:00",
          "2024-06-11T00:00:00",
          "2024-06-12T00:00:00",
          "2024-06-13T00:00:00",
          "2024-06-14T00:00:00",
          "2024-06-15T00:00:00",
          "2024-06-16T00:00:00",
          "2024-06-17T00:00:00",
          "2024-06-18T00:00:00",
          "2024-06-19T00:00:00",
          "2024-06-20T00:00:00",
          "2024-06-21T00:00:00",
          "2024-06-22T00:00:00",
          "2024-06-23T00:00:00",
          "2024-06-24T00:00:00",
          "2024-06-25T00:00:00",
          "2024-06-26T00:00:00",
          "2024-06-27T00:00:00",
          "2024-06-28T00:00:00",
          "2024-06-29T00:00:00",
          "2024-06-30T00:00:00",
          "2024-07-01T00:00:00",
          "2024-07-02T00:00:00",
          "2024-07-03T00:00:00",
          "2024-07-04T00:00:00",
          "2024-07-05T00:00:00",
          "2024-07-06T00:00:00",
          "2024-07-07T00:00:00",
          "2024-07-08T00:00:00",
          "2024-07-09T00:00:00",
          "2024-07-10T00:00:00",
          "2024-07-11T00:00:00",
          "2024-07-12T00:00:00",
          "2024-07-13T00:00:00",
          "2024-07-14T00:00:00",
          "2024-07-15T00:00:00",
          "2024-07-16T00:00:00",
          "2024-07-17T00:00:00",
          "2024-07-18T00:00:00",
          "2024-07-19T00:00:00",
          "2024-07-20T00:00:00",
          "2024-07-21T00:00:00",
          "2024-07-22T00:00:00",
          "2024-07-23T00:00:00",
          "2024-07-24T00:00:00",
          "2024-07-25T00:00:00",
          "2024-07-26T00:00:00",
          "2024-07-27T00:00:00",
          "2024-07-28T00:00:00",
          "2024-07-29T00:00:00",
          "2024-07-30T00:00:00",
          "2024-07-31T00:00:00",
          "2024-08-01T00:00:00",
          "2024-08-02T00:00:00",
          "2024-08-03T00:00:00",
          "2024-08-04T00:00:00",
          "2024-08-05T00:00:00",
          "2024-08-06T00:00:00",
          "2024-08-07T00:00:00",
          "2024-08-08T00:00:00",
          "2024-08-09T00:00:00",
          "2024-08-10T00:00:00",
          "2024-08-11T00:00:00",
          "2024-08-12T00:00:00",
          "2024-08-13T00:00:00",
          "2024-08-14T00:00:00",
          "2024-08-15T00:00:00",
          "2024-08-16T00:00:00",
          "2024-08-17T00:00:00",
          "2024-08-18T00:00:00",
          "2024-08-19T00:00:00",
          "2024-08-20T00:00:00",
          "2024-08-21T00:00:00",
          "2024-08-22T00:00:00",
          "2024-08-23T00:00:00",
          "2024-08-24T00:00:00",
          "2024-08-25T00:00:00",
          "2024-08-26T00:00:00",
          "2024-08-27T00:00:00",
          "2024-08-28T00:00:00",
          "2024-08-29T00:00:00",
          "2024-08-30T00:00:00",
          "2024-08-31T00:00:00",
          "2024-09-01T00:00:00",
          "2024-09-02T00:00:00",
          "2024-09-03T00:00:00",
          "2024-09-04T00:00:00",
          "2024-09-05T00:00:00",
          "2024-09-06T00:00:00",
          "2024-09-07T00:00:00",
          "2024-09-08T00:00:00",
          "2024-09-09T00:00:00",
          "2024-09-10T00:00:00",
          "2024-09-11T00:00:00",
          "2024-09-12T00:00:00",
          "2024-09-13T00:00:00",
          "2024-09-14T00:00:00",
          "2024-09-15T00:00:00",
          "2024-09-16T00:00:00",
          "2024-09-17T00:00:00",
          "2024-09-18T00:00:00",
          "2024-09-19T00:00:00",
          "2024-09-20T00:00:00",
          "2024-09-21T00:00:00",
          "2024-09-22T00:00:00",
          "2024-09-23T00:00:00",
          "2024-09-24T00:00:00",
          "2024-09-25T00:00:00",
          "2024-09-26T00:00:00",
          "2024-09-27T00:00:00",
          "2024-09-28T00:00:00",
          "2024-09-29T00:00:00",
          "2024-09-30T00:00:00",
          "2024-10-01T00:00:00",
          "2024-10-02T00:00:00",
          "2024-10-03T00:00:00",
          "2024-10-04T00:00:00",
          "2024-10-05T00:00:00",
          "2024-10-06T00:00:00",
          "2024-10-07T00:00:00",
          "2024-10-08T00:00:00",
          "2024-10-09T00:00:00",
          "2024-10-10T00:00:00",
          "2024-10-11T00:00:00",
          "2024-10-12T00:00:00",
          "2024-10-13T00:00:00",
          "2024-10-14T00:00:00",
          "2024-10-15T00:00:00",
          "2024-10-16T00:00:00",
          "2024-10-17T00:00:00",
          "2024-10-18T00:00:00",
          "2024-10-19T00:00:00",
          "2024-10-20T00:00:00",
          "2024-10-21T00:00:00",
          "2024-10-22T00:00:00",
          "2024-10-23T00:00:00",
          "2024-10-24T00:00:00",
          "2024-10-25T00:00:00",
          "2024-10-26T00:00:00",
          "2024-10-27T00:00:00",
          "2024-10-28T00:00:00",
          "2024-10-29T00:00:00",
          "2024-10-30T00:00:00",
          "2024-10-31T00:00:00",
          "2024-11-01T00:00:00",
          "2024-11-02T00:00:00",
          "2024-11-03T00:00:00",
          "2024-11-04T00:00:00",
          "2024-11-05T00:00:00",
          "2024-11-06T00:00:00",
          "2024-11-07T00:00:00",
          "2024-11-08T00:00:00",
          "2024-11-09T00:00:00",
          "2024-11-10T00:00:00",
          "2024-11-11T00:00:00",
          "2024-11-12T00:00:00",
          "2024-11-13T00:00:00",
          "2024-11-14T00:00:00",
          "2024-11-15T00:00:00",
          "2024-11-16T00:00:00",
          "2024-11-17T00:00:00",
          "2024-11-18T00:00:00",
          "2024-11-19T00:00:00",
          "2024-11-20T00:00:00",
          "2024-11-21T00:00:00",
          "2024-11-22T00:00:00",
          "2024-11-23T00:00:00",
          "2024-11-24T00:00:00",
          "2024-11-25T00:00:00",
          "2024-11-26T00:00:00",
          "2024-11-27T00:00:00",
          "2024-11-28T00:00:00",
          "2024-11-29T00:00:00",
          "2024-11-30T00:00:00",
          "2024-12-01T00:00:00",
          "2024-12-02T00:00:00",
          "2024-12-03T00:00:00",
          "2024-12-04T00:00:00",
          "2024-12-05T00:00:00",
          "2024-12-06T00:00:00",
          "2024-12-07T00:00:00",
          "2024-12-08T00:00:00",
          "2024-12-09T00:00:00",
          "2024-12-10T00:00:00",
          "2024-12-11T00:00:00",
          "2024-12-12T00:00:00",
          "2024-12-13T00:00:00",
          "2024-12-14T00:00:00",
          "2024-12-15T00:00:00",
          "2024-12-16T00:00:00",
          "2024-12-17T00:00:00",
          "2024-12-18T00:00:00",
          "2024-12-19T00:00:00",
          "2024-12-20T00:00:00",
          "2024-12-21T00:00:00",
          "2024-12-22T00:00:00",
          "2024-12-23T00:00:00",
          "2024-12-24T00:00:00",
          "2024-12-25T00:00:00",
          "2024-12-26T00:00:00",
          "2024-12-27T00:00:00",
          "2024-12-28T00:00:00",
          "2024-12-29T00:00:00",
          "2024-12-30T00:00:00",
          "2024-12-31T00:00:00"
         ],
         "y": [
          65105518.07936737,
          244338443.40059265,
          260797077.99807653,
          262891824.50122064,
          266494495.18476745,
          259259908.15316057,
          279309351.554624,
          406665041.9168917,
          190735482.23587087,
          212361371.60723257,
          220316479.1021606,
          210191070.77915877,
          205714942.84575725,
          333038045.8618004,
          258523766.86280802,
          234078962.0272709,
          221683485.10745582,
          207957217.99759835,
          203142829.1887766,
          238686356.66639677,
          268304246.2115315,
          307845678.1445189,
          225018208.15983325,
          220124436.49451348,
          208520026.73135415,
          208591932.92624474,
          250431691.19588152,
          293866218.15135825,
          284786597.1112877,
          227360360.81603646,
          205943362.5633749,
          266758970.8976649,
          267320454.53088385,
          314008459.7241249,
          421556152.28069276,
          351400321.9777223,
          250953103.0418018,
          202947291.0601185,
          198903704.4644202,
          158293919.6282503,
          243178442.23232704,
          288852054.874628,
          215713275.88184083,
          186059422.70661196,
          189550641.24516922,
          188334874.99381247,
          203166087.80947968,
          227841889.1651053,
          287952961.9560414,
          222416321.58013362,
          190107678.7771623,
          188325065.21248898,
          186498927.85882053,
          192754511.80271122,
          229321925.6379006,
          287276065.9190083,
          221403892.61261064,
          188829538.96013662,
          184143202.07873622,
          186263751.5842852,
          356977554.6430391,
          723051428.5390351,
          982371149.7071382,
          918970575.1513587,
          663412593.0654036,
          607448346.7105371,
          491078070.0688087,
          766196032.7791418,
          386421375.19847655,
          719250861.866167,
          603240346.9335272,
          509517136.38740075,
          457707577.7191133,
          478944884.93256485,
          475261865.47797215,
          657928656.3279595,
          701374015.8069849,
          597274451.0257362,
          497667351.67635226,
          481022872.22860634,
          500877453.46711344,
          514057088.60799706,
          612569098.4382262,
          723946106.1275967,
          713753941.7094246,
          681981346.9396712,
          499970946.35571957,
          512942524.2452438,
          519960787.4104944,
          589593112.3076624,
          756352267.1723286,
          749829332.1340687,
          415413153.73266387,
          439801011.3210326,
          446575142.35760635,
          448826654.6556453,
          541585122.3663855,
          561644145.6694001,
          248459495.00541288,
          235696146.5849048,
          294593003.1687794,
          336125727.3220697,
          352147157.98231125,
          377014769.2907272,
          461671726.6635739,
          320013888.46460193,
          296065231.0210026,
          318078743.4155128,
          276284776.4579254,
          290099916.1953921,
          380374402.7938109,
          472828822.6708951,
          299727915.39086795,
          290454627.94899005,
          272393169.6283247,
          307325557.6834935,
          298572403.1373098,
          382277690.5874272,
          489807784.1290283,
          315917065.78448373,
          291730891.33550864,
          332517245.44714713,
          278318777.26511604,
          268668445.1306552,
          382911091.2843376,
          498369833.8967857,
          236606847.42977116,
          196409231.0379886,
          167717889.65209308,
          153563578.74440843,
          189283629.73078966,
          273000933.47324806,
          327567914.2498036,
          123904104.03848666,
          166837542.76766086,
          160240514.4049782,
          194155571.25910115,
          175832263.04186505,
          265390328.33929628,
          325884919.9877875,
          140402768.5841278,
          166774266.15136072,
          165836247.56201357,
          185976938.29557568,
          177724168.25282392,
          261156861.97933137,
          327179561.24976146,
          148576448.13878006,
          180943294.86646777,
          165925189.53167078,
          183281999.42268836,
          179055411.81121448,
          372498001.3878113,
          592948940.091201,
          409647109.0863929,
          340148086.65962625,
          336893227.1462109,
          305009568.3996514,
          223955425.96549365,
          351119877.432761,
          330758877.17973655,
          235769075.81160408,
          244182135.43497598,
          234636644.0787249,
          220857288.6945557,
          246427624.91900456,
          328531125.73833895,
          444889132.60806894,
          270060420.30731726,
          220008060.0512225,
          237631354.7562458,
          256894461.64833808,
          252359886.68220153,
          333205335.3348128,
          415259477.7357577,
          243614632.85851195,
          256555014.0791467,
          246358767.28744483,
          248958385.07863036,
          250433614.21547398,
          337208026.9734227,
          426995038.2020758,
          332756607.602833,
          319890552.4508935,
          311826199.68071127,
          318681069.8792044,
          323384773.1657119,
          382256400.3155921,
          383869950.158928,
          123871029.1484921,
          155109563.68349487,
          216262826.86387148,
          220058644.32639354,
          223909551.66561487,
          284601688.71678334,
          369888089.2331042,
          234223803.3529766,
          239477545.27721226,
          221404804.88323948,
          226360570.28243366,
          235487062.68186548,
          309741951.668418,
          398746188.7012847,
          224940603.91899544,
          230653950.7189191,
          227029263.01212537,
          234760261.54069594,
          239981280.16752222,
          313384294.3111711,
          392487027.0032952,
          224510345.37798625,
          240634127.22809374,
          227047578.77282685,
          302377537.4353419,
          334204139.3177175,
          520108907.5662034,
          711024166.63286,
          518875805.7854216,
          388242662.694748,
          293923168.26699847,
          257807631.72329938,
          266397611.32158583,
          398440481.6989208,
          499403810.64720714,
          306793642.61592627,
          290677401.7426078,
          273316340.1119373,
          307841371.2389134,
          318669162.82062465,
          393897162.0527158,
          494004137.33650875,
          379307917.90868485,
          292707995.7249696,
          302506836.04268396,
          307379483.16617036,
          247068014.8715211,
          386849359.0860359,
          502177619.63082373,
          319142486.80615646,
          302189083.4485623,
          297028106.47536564,
          211064975.96353662,
          329111038.35649574,
          388892174.9306427,
          630959508.7790108,
          391078627.1832394,
          363944417.5331974,
          336051482.0891367,
          372801609.7006539,
          343391697.12810636,
          481545317.4344367,
          377953017.5705287,
          152664489.25096196,
          242881426.49276662,
          238003178.61942598,
          241899209.7210976,
          238084843.11453027,
          299114823.1244586,
          429291451.94681746,
          269839750.52481747,
          253627469.33763668,
          239895733.00434375,
          250459600.18336216,
          256350222.28721568,
          323302272.90761787,
          426821056.817919,
          237909875.56568718,
          251491356.5708766,
          233362570.90913388,
          246051421.6185839,
          250944909.19115743,
          327908153.5413986,
          426627695.53348523,
          253208748.6119691,
          356675636.1646228,
          405238666.7592205,
          408865219.3972817,
          431798074.0994015,
          534791090.01095915,
          678488207.7694862,
          313326383.77336836,
          336789237.9252797,
          241445559.73573136,
          308965410.4352415,
          313643986.4883344,
          469330193.7719023,
          469856706.27353424,
          308859158.6566851,
          308135490.1463436,
          308416891.7563584,
          311273386.80975825,
          320733391.1904012,
          396604538.4977556,
          486294372.2897749,
          333338062.17848295,
          309413982.01836747,
          308771228.22201663,
          308311328.9922173,
          316146816.5397934,
          393094975.69783247,
          495195926.54381996,
          328260279.3220031,
          308331554.58463776,
          303330470.86038584,
          310284706.58849615,
          1095775129.7085557,
          895635128.7103399,
          1689599075.7194304,
          686326748.6897244,
          712042268.9829288,
          651627684.8052251,
          531890912.6090679,
          629565216.2532598,
          544939223.2483759,
          718765291.3540345,
          656060807.4765017,
          533412974.45974183,
          487504112.343369,
          507435713.77985936,
          553417419.9819857,
          668870582.3362572,
          781044344.0017604,
          614071703.4432142,
          530131320.3756667,
          507763499.8628873,
          518356660.63117313,
          558431576.2051358,
          648445035.4491338,
          780362134.7873747,
          612728503.8950052,
          531878177.2413447,
          516053272.9048337,
          524885410.2150004,
          553887783.2372949,
          641422728.9738191,
          919491969.5426683,
          382014419.03053886,
          386618995.9565294,
          349369878.2694174,
          369047016.72352535,
          350954252.4788626,
          412759574.1491926,
          395777577.8817632,
          126908369.85643993,
          232411375.6514639,
          217547105.64022228,
          242226798.39872104,
          238408655.6505293,
          328713794.2006067,
          380826787.2418835,
          216389734.85214895,
          229526963.20206553,
          222809157.74235588,
          229837544.48039058,
          242739785.14046642,
          271755147.9189471,
          317834589.92961514,
          100863581.66987137,
          171728750.2691621,
          169998460.91088325,
          132659813.63770631,
          159414784.64220265,
          250712462.48106557,
          293103130.96610326,
          106953096.80404718,
          159105598.68973848
         ]
        },
        {
         "line": {
          "color": "green",
          "dash": "dash"
         },
         "mode": "lines+markers",
         "name": "January 2025 Predictions",
         "type": "scatter",
         "x": [
          "2025-01-01T00:00:00",
          "2025-01-02T00:00:00",
          "2025-01-03T00:00:00",
          "2025-01-04T00:00:00",
          "2025-01-05T00:00:00",
          "2025-01-06T00:00:00",
          "2025-01-07T00:00:00",
          "2025-01-08T00:00:00",
          "2025-01-09T00:00:00",
          "2025-01-10T00:00:00",
          "2025-01-11T00:00:00",
          "2025-01-12T00:00:00",
          "2025-01-13T00:00:00",
          "2025-01-14T00:00:00",
          "2025-01-15T00:00:00",
          "2025-01-16T00:00:00",
          "2025-01-17T00:00:00",
          "2025-01-18T00:00:00",
          "2025-01-19T00:00:00",
          "2025-01-20T00:00:00",
          "2025-01-21T00:00:00",
          "2025-01-22T00:00:00",
          "2025-01-23T00:00:00",
          "2025-01-24T00:00:00",
          "2025-01-25T00:00:00",
          "2025-01-26T00:00:00",
          "2025-01-27T00:00:00",
          "2025-01-28T00:00:00",
          "2025-01-29T00:00:00",
          "2025-01-30T00:00:00",
          "2025-01-31T00:00:00"
         ],
         "y": [
          138889821.08641684,
          151330202.06115672,
          157234708.25174642,
          243831842.99512374,
          313707359.2460819,
          142913120.9162573,
          145458879.69427845,
          127323090.39471325,
          136494427.70099497,
          145782156.30496764,
          239237451.38899374,
          312354148.53088295,
          130803260.23588425,
          133836355.4496927,
          117226738.3395609,
          125941481.74287128,
          135915040.455286,
          230649488.2426581,
          304379490.34254205,
          120924527.8340218,
          124058548.14263406,
          107730909.26632518,
          116369022.58904007,
          126468977.07087389,
          221434723.0739786,
          295276005.3734322,
          111481189.3820579,
          114633895.1829399,
          98357127.64273845,
          106981780.90580848,
          117104524.26925106
         ]
        }
       ],
       "layout": {
        "legend": {
         "title": {
          "text": "Legend"
         }
        },
        "template": {
         "data": {
          "bar": [
           {
            "error_x": {
             "color": "#2a3f5f"
            },
            "error_y": {
             "color": "#2a3f5f"
            },
            "marker": {
             "line": {
              "color": "white",
              "width": 0.5
             },
             "pattern": {
              "fillmode": "overlay",
              "size": 10,
              "solidity": 0.2
             }
            },
            "type": "bar"
           }
          ],
          "barpolar": [
           {
            "marker": {
             "line": {
              "color": "white",
              "width": 0.5
             },
             "pattern": {
              "fillmode": "overlay",
              "size": 10,
              "solidity": 0.2
             }
            },
            "type": "barpolar"
           }
          ],
          "carpet": [
           {
            "aaxis": {
             "endlinecolor": "#2a3f5f",
             "gridcolor": "#C8D4E3",
             "linecolor": "#C8D4E3",
             "minorgridcolor": "#C8D4E3",
             "startlinecolor": "#2a3f5f"
            },
            "baxis": {
             "endlinecolor": "#2a3f5f",
             "gridcolor": "#C8D4E3",
             "linecolor": "#C8D4E3",
             "minorgridcolor": "#C8D4E3",
             "startlinecolor": "#2a3f5f"
            },
            "type": "carpet"
           }
          ],
          "choropleth": [
           {
            "colorbar": {
             "outlinewidth": 0,
             "ticks": ""
            },
            "type": "choropleth"
           }
          ],
          "contour": [
           {
            "colorbar": {
             "outlinewidth": 0,
             "ticks": ""
            },
            "colorscale": [
             [
              0,
              "#0d0887"
             ],
             [
              0.1111111111111111,
              "#46039f"
             ],
             [
              0.2222222222222222,
              "#7201a8"
             ],
             [
              0.3333333333333333,
              "#9c179e"
             ],
             [
              0.4444444444444444,
              "#bd3786"
             ],
             [
              0.5555555555555556,
              "#d8576b"
             ],
             [
              0.6666666666666666,
              "#ed7953"
             ],
             [
              0.7777777777777778,
              "#fb9f3a"
             ],
             [
              0.8888888888888888,
              "#fdca26"
             ],
             [
              1,
              "#f0f921"
             ]
            ],
            "type": "contour"
           }
          ],
          "contourcarpet": [
           {
            "colorbar": {
             "outlinewidth": 0,
             "ticks": ""
            },
            "type": "contourcarpet"
           }
          ],
          "heatmap": [
           {
            "colorbar": {
             "outlinewidth": 0,
             "ticks": ""
            },
            "colorscale": [
             [
              0,
              "#0d0887"
             ],
             [
              0.1111111111111111,
              "#46039f"
             ],
             [
              0.2222222222222222,
              "#7201a8"
             ],
             [
              0.3333333333333333,
              "#9c179e"
             ],
             [
              0.4444444444444444,
              "#bd3786"
             ],
             [
              0.5555555555555556,
              "#d8576b"
             ],
             [
              0.6666666666666666,
              "#ed7953"
             ],
             [
              0.7777777777777778,
              "#fb9f3a"
             ],
             [
              0.8888888888888888,
              "#fdca26"
             ],
             [
              1,
              "#f0f921"
             ]
            ],
            "type": "heatmap"
           }
          ],
          "heatmapgl": [
           {
            "colorbar": {
             "outlinewidth": 0,
             "ticks": ""
            },
            "colorscale": [
             [
              0,
              "#0d0887"
             ],
             [
              0.1111111111111111,
              "#46039f"
             ],
             [
              0.2222222222222222,
              "#7201a8"
             ],
             [
              0.3333333333333333,
              "#9c179e"
             ],
             [
              0.4444444444444444,
              "#bd3786"
             ],
             [
              0.5555555555555556,
              "#d8576b"
             ],
             [
              0.6666666666666666,
              "#ed7953"
             ],
             [
              0.7777777777777778,
              "#fb9f3a"
             ],
             [
              0.8888888888888888,
              "#fdca26"
             ],
             [
              1,
              "#f0f921"
             ]
            ],
            "type": "heatmapgl"
           }
          ],
          "histogram": [
           {
            "marker": {
             "pattern": {
              "fillmode": "overlay",
              "size": 10,
              "solidity": 0.2
             }
            },
            "type": "histogram"
           }
          ],
          "histogram2d": [
           {
            "colorbar": {
             "outlinewidth": 0,
             "ticks": ""
            },
            "colorscale": [
             [
              0,
              "#0d0887"
             ],
             [
              0.1111111111111111,
              "#46039f"
             ],
             [
              0.2222222222222222,
              "#7201a8"
             ],
             [
              0.3333333333333333,
              "#9c179e"
             ],
             [
              0.4444444444444444,
              "#bd3786"
             ],
             [
              0.5555555555555556,
              "#d8576b"
             ],
             [
              0.6666666666666666,
              "#ed7953"
             ],
             [
              0.7777777777777778,
              "#fb9f3a"
             ],
             [
              0.8888888888888888,
              "#fdca26"
             ],
             [
              1,
              "#f0f921"
             ]
            ],
            "type": "histogram2d"
           }
          ],
          "histogram2dcontour": [
           {
            "colorbar": {
             "outlinewidth": 0,
             "ticks": ""
            },
            "colorscale": [
             [
              0,
              "#0d0887"
             ],
             [
              0.1111111111111111,
              "#46039f"
             ],
             [
              0.2222222222222222,
              "#7201a8"
             ],
             [
              0.3333333333333333,
              "#9c179e"
             ],
             [
              0.4444444444444444,
              "#bd3786"
             ],
             [
              0.5555555555555556,
              "#d8576b"
             ],
             [
              0.6666666666666666,
              "#ed7953"
             ],
             [
              0.7777777777777778,
              "#fb9f3a"
             ],
             [
              0.8888888888888888,
              "#fdca26"
             ],
             [
              1,
              "#f0f921"
             ]
            ],
            "type": "histogram2dcontour"
           }
          ],
          "mesh3d": [
           {
            "colorbar": {
             "outlinewidth": 0,
             "ticks": ""
            },
            "type": "mesh3d"
           }
          ],
          "parcoords": [
           {
            "line": {
             "colorbar": {
              "outlinewidth": 0,
              "ticks": ""
             }
            },
            "type": "parcoords"
           }
          ],
          "pie": [
           {
            "automargin": true,
            "type": "pie"
           }
          ],
          "scatter": [
           {
            "fillpattern": {
             "fillmode": "overlay",
             "size": 10,
             "solidity": 0.2
            },
            "type": "scatter"
           }
          ],
          "scatter3d": [
           {
            "line": {
             "colorbar": {
              "outlinewidth": 0,
              "ticks": ""
             }
            },
            "marker": {
             "colorbar": {
              "outlinewidth": 0,
              "ticks": ""
             }
            },
            "type": "scatter3d"
           }
          ],
          "scattercarpet": [
           {
            "marker": {
             "colorbar": {
              "outlinewidth": 0,
              "ticks": ""
             }
            },
            "type": "scattercarpet"
           }
          ],
          "scattergeo": [
           {
            "marker": {
             "colorbar": {
              "outlinewidth": 0,
              "ticks": ""
             }
            },
            "type": "scattergeo"
           }
          ],
          "scattergl": [
           {
            "marker": {
             "colorbar": {
              "outlinewidth": 0,
              "ticks": ""
             }
            },
            "type": "scattergl"
           }
          ],
          "scattermapbox": [
           {
            "marker": {
             "colorbar": {
              "outlinewidth": 0,
              "ticks": ""
             }
            },
            "type": "scattermapbox"
           }
          ],
          "scatterpolar": [
           {
            "marker": {
             "colorbar": {
              "outlinewidth": 0,
              "ticks": ""
             }
            },
            "type": "scatterpolar"
           }
          ],
          "scatterpolargl": [
           {
            "marker": {
             "colorbar": {
              "outlinewidth": 0,
              "ticks": ""
             }
            },
            "type": "scatterpolargl"
           }
          ],
          "scatterternary": [
           {
            "marker": {
             "colorbar": {
              "outlinewidth": 0,
              "ticks": ""
             }
            },
            "type": "scatterternary"
           }
          ],
          "surface": [
           {
            "colorbar": {
             "outlinewidth": 0,
             "ticks": ""
            },
            "colorscale": [
             [
              0,
              "#0d0887"
             ],
             [
              0.1111111111111111,
              "#46039f"
             ],
             [
              0.2222222222222222,
              "#7201a8"
             ],
             [
              0.3333333333333333,
              "#9c179e"
             ],
             [
              0.4444444444444444,
              "#bd3786"
             ],
             [
              0.5555555555555556,
              "#d8576b"
             ],
             [
              0.6666666666666666,
              "#ed7953"
             ],
             [
              0.7777777777777778,
              "#fb9f3a"
             ],
             [
              0.8888888888888888,
              "#fdca26"
             ],
             [
              1,
              "#f0f921"
             ]
            ],
            "type": "surface"
           }
          ],
          "table": [
           {
            "cells": {
             "fill": {
              "color": "#EBF0F8"
             },
             "line": {
              "color": "white"
             }
            },
            "header": {
             "fill": {
              "color": "#C8D4E3"
             },
             "line": {
              "color": "white"
             }
            },
            "type": "table"
           }
          ]
         },
         "layout": {
          "annotationdefaults": {
           "arrowcolor": "#2a3f5f",
           "arrowhead": 0,
           "arrowwidth": 1
          },
          "autotypenumbers": "strict",
          "coloraxis": {
           "colorbar": {
            "outlinewidth": 0,
            "ticks": ""
           }
          },
          "colorscale": {
           "diverging": [
            [
             0,
             "#8e0152"
            ],
            [
             0.1,
             "#c51b7d"
            ],
            [
             0.2,
             "#de77ae"
            ],
            [
             0.3,
             "#f1b6da"
            ],
            [
             0.4,
             "#fde0ef"
            ],
            [
             0.5,
             "#f7f7f7"
            ],
            [
             0.6,
             "#e6f5d0"
            ],
            [
             0.7,
             "#b8e186"
            ],
            [
             0.8,
             "#7fbc41"
            ],
            [
             0.9,
             "#4d9221"
            ],
            [
             1,
             "#276419"
            ]
           ],
           "sequential": [
            [
             0,
             "#0d0887"
            ],
            [
             0.1111111111111111,
             "#46039f"
            ],
            [
             0.2222222222222222,
             "#7201a8"
            ],
            [
             0.3333333333333333,
             "#9c179e"
            ],
            [
             0.4444444444444444,
             "#bd3786"
            ],
            [
             0.5555555555555556,
             "#d8576b"
            ],
            [
             0.6666666666666666,
             "#ed7953"
            ],
            [
             0.7777777777777778,
             "#fb9f3a"
            ],
            [
             0.8888888888888888,
             "#fdca26"
            ],
            [
             1,
             "#f0f921"
            ]
           ],
           "sequentialminus": [
            [
             0,
             "#0d0887"
            ],
            [
             0.1111111111111111,
             "#46039f"
            ],
            [
             0.2222222222222222,
             "#7201a8"
            ],
            [
             0.3333333333333333,
             "#9c179e"
            ],
            [
             0.4444444444444444,
             "#bd3786"
            ],
            [
             0.5555555555555556,
             "#d8576b"
            ],
            [
             0.6666666666666666,
             "#ed7953"
            ],
            [
             0.7777777777777778,
             "#fb9f3a"
            ],
            [
             0.8888888888888888,
             "#fdca26"
            ],
            [
             1,
             "#f0f921"
            ]
           ]
          },
          "colorway": [
           "#636efa",
           "#EF553B",
           "#00cc96",
           "#ab63fa",
           "#FFA15A",
           "#19d3f3",
           "#FF6692",
           "#B6E880",
           "#FF97FF",
           "#FECB52"
          ],
          "font": {
           "color": "#2a3f5f"
          },
          "geo": {
           "bgcolor": "white",
           "lakecolor": "white",
           "landcolor": "white",
           "showlakes": true,
           "showland": true,
           "subunitcolor": "#C8D4E3"
          },
          "hoverlabel": {
           "align": "left"
          },
          "hovermode": "closest",
          "mapbox": {
           "style": "light"
          },
          "paper_bgcolor": "white",
          "plot_bgcolor": "white",
          "polar": {
           "angularaxis": {
            "gridcolor": "#EBF0F8",
            "linecolor": "#EBF0F8",
            "ticks": ""
           },
           "bgcolor": "white",
           "radialaxis": {
            "gridcolor": "#EBF0F8",
            "linecolor": "#EBF0F8",
            "ticks": ""
           }
          },
          "scene": {
           "xaxis": {
            "backgroundcolor": "white",
            "gridcolor": "#DFE8F3",
            "gridwidth": 2,
            "linecolor": "#EBF0F8",
            "showbackground": true,
            "ticks": "",
            "zerolinecolor": "#EBF0F8"
           },
           "yaxis": {
            "backgroundcolor": "white",
            "gridcolor": "#DFE8F3",
            "gridwidth": 2,
            "linecolor": "#EBF0F8",
            "showbackground": true,
            "ticks": "",
            "zerolinecolor": "#EBF0F8"
           },
           "zaxis": {
            "backgroundcolor": "white",
            "gridcolor": "#DFE8F3",
            "gridwidth": 2,
            "linecolor": "#EBF0F8",
            "showbackground": true,
            "ticks": "",
            "zerolinecolor": "#EBF0F8"
           }
          },
          "shapedefaults": {
           "line": {
            "color": "#2a3f5f"
           }
          },
          "ternary": {
           "aaxis": {
            "gridcolor": "#DFE8F3",
            "linecolor": "#A2B1C6",
            "ticks": ""
           },
           "baxis": {
            "gridcolor": "#DFE8F3",
            "linecolor": "#A2B1C6",
            "ticks": ""
           },
           "bgcolor": "white",
           "caxis": {
            "gridcolor": "#DFE8F3",
            "linecolor": "#A2B1C6",
            "ticks": ""
           }
          },
          "title": {
           "x": 0.05
          },
          "xaxis": {
           "automargin": true,
           "gridcolor": "#EBF0F8",
           "linecolor": "#EBF0F8",
           "ticks": "",
           "title": {
            "standoff": 15
           },
           "zerolinecolor": "#EBF0F8",
           "zerolinewidth": 2
          },
          "yaxis": {
           "automargin": true,
           "gridcolor": "#EBF0F8",
           "linecolor": "#EBF0F8",
           "ticks": "",
           "title": {
            "standoff": 15
           },
           "zerolinecolor": "#EBF0F8",
           "zerolinewidth": 2
          }
         }
        },
        "title": {
         "text": "Actual vs SARIMAX Predicted Transaction Amounts (Including January 2025)"
        },
        "xaxis": {
         "title": {
          "text": "Date"
         }
        },
        "yaxis": {
         "title": {
          "text": "Transaction Amount"
         }
        }
       }
      }
     },
     "metadata": {},
     "output_type": "display_data"
    }
   ],
   "source": [
    "import plotly.graph_objects as go\n",
    "\n",
    "# Ensure 'fitted_values' is defined\n",
    "if 'fitted_values' not in locals():\n",
    "\tfitted_values = Sarimax_model_fit.predict(start=0, end=len(time_series_data)-1)\n",
    "\n",
    "# Create the comparison DataFrame\n",
    "comparison_df = pd.DataFrame({\n",
    "\t'Date': time_series_data.index,\n",
    "\t'Actual': time_series_data['Transaction_Amount'],\n",
    "\t'Predicted': fitted_values\n",
    "}).reset_index(drop=True)\n",
    "\n",
    "# Create a figure\n",
    "fig = go.Figure()\n",
    "\n",
    "# Add the actual data line\n",
    "fig.add_trace(go.Scatter(\n",
    "\tx=comparison_df['Date'],\n",
    "\ty=comparison_df['Actual'],\n",
    "\tmode='lines',\n",
    "\tname='Actual',\n",
    "\tline=dict(color='blue')\n",
    "))\n",
    "\n",
    "# Add the SARIMAX predicted data line\n",
    "fig.add_trace(go.Scatter(\n",
    "\tx=comparison_df['Date'],\n",
    "\ty=comparison_df['Predicted'],\n",
    "\tmode='lines',\n",
    "\tname='SARIMAX Predicted',\n",
    "\tline=dict(color='red')\n",
    "))\n",
    "\n",
    "# Add the January 2025 predictions\n",
    "fig.add_trace(go.Scatter(\n",
    "\tx=january_2025_forecast['Date'],\n",
    "\ty=january_2025_forecast['SARIMAX_Forecast'],\n",
    "\tmode='lines+markers',\n",
    "\tname='January 2025 Predictions',\n",
    "\tline=dict(color='green', dash='dash')\n",
    "))\n",
    "\n",
    "# Customize the layout\n",
    "fig.update_layout(\n",
    "\ttitle='Actual vs SARIMAX Predicted Transaction Amounts (Including January 2025)',\n",
    "\txaxis_title='Date',\n",
    "\tyaxis_title='Transaction Amount',\n",
    "\tlegend_title='Legend',\n",
    "\ttemplate='plotly_white'\n",
    ")\n",
    "\n",
    "# Show the plot\n",
    "fig.show()\n"
   ]
  },
  {
   "cell_type": "code",
   "execution_count": 27,
   "id": "1878a658",
   "metadata": {},
   "outputs": [
    {
     "name": "stderr",
     "output_type": "stream",
     "text": [
      "c:\\Users\\vibhu\\miniconda3\\lib\\site-packages\\sklearn\\utils\\deprecation.py:151: FutureWarning:\n",
      "\n",
      "'force_all_finite' was renamed to 'ensure_all_finite' in 1.6 and will be removed in 1.8.\n",
      "\n",
      "c:\\Users\\vibhu\\miniconda3\\lib\\site-packages\\_plotly_utils\\basevalidators.py:106: FutureWarning:\n",
      "\n",
      "The behavior of DatetimeProperties.to_pydatetime is deprecated, in a future version this will return a Series containing python datetime objects instead of an ndarray. To retain the old behavior, call `np.array` on the result\n",
      "\n"
     ]
    },
    {
     "data": {
      "application/vnd.plotly.v1+json": {
       "config": {
        "plotlyServerURL": "https://plot.ly"
       },
       "data": [
        {
         "line": {
          "color": "blue"
         },
         "mode": "lines+markers",
         "name": "Auto ARIMA Predictions",
         "type": "scatter",
         "x": [
          "2025-01-01T00:00:00",
          "2025-01-02T00:00:00",
          "2025-01-03T00:00:00",
          "2025-01-04T00:00:00",
          "2025-01-05T00:00:00",
          "2025-01-06T00:00:00",
          "2025-01-07T00:00:00",
          "2025-01-08T00:00:00",
          "2025-01-09T00:00:00",
          "2025-01-10T00:00:00",
          "2025-01-11T00:00:00",
          "2025-01-12T00:00:00",
          "2025-01-13T00:00:00",
          "2025-01-14T00:00:00",
          "2025-01-15T00:00:00",
          "2025-01-16T00:00:00",
          "2025-01-17T00:00:00",
          "2025-01-18T00:00:00",
          "2025-01-19T00:00:00",
          "2025-01-20T00:00:00",
          "2025-01-21T00:00:00",
          "2025-01-22T00:00:00",
          "2025-01-23T00:00:00",
          "2025-01-24T00:00:00",
          "2025-01-25T00:00:00",
          "2025-01-26T00:00:00",
          "2025-01-27T00:00:00",
          "2025-01-28T00:00:00",
          "2025-01-29T00:00:00",
          "2025-01-30T00:00:00",
          "2025-01-31T00:00:00"
         ],
         "y": [
          180852159.56503108,
          215153508.20499828,
          220322245.2296339,
          274229461.0422785,
          322751877.54913044,
          240592140.4264072,
          243097794.59006572,
          245840692.12118813,
          265509823.75894997,
          260677066.92316154,
          300686147.1534569,
          338100788.4328977,
          267945871.4532378,
          268964517.3603876,
          270784031.33302534,
          286806394.3095235,
          282654315.4075856,
          315888106.1664974,
          347106449.8382407,
          288471383.8729362,
          289338197.5513617,
          290814044.39320767,
          304208561.12811244,
          300715551.68944114,
          328473932.26253086,
          354513053.4526887,
          305584889.84277755,
          306294894.7531631,
          307537884.3121009,
          318708344.51367545,
          315801121.4862061
         ]
        },
        {
         "line": {
          "color": "red"
         },
         "mode": "lines+markers",
         "name": "SARIMAX Predictions",
         "type": "scatter",
         "x": [
          "2025-01-01T00:00:00",
          "2025-01-02T00:00:00",
          "2025-01-03T00:00:00",
          "2025-01-04T00:00:00",
          "2025-01-05T00:00:00",
          "2025-01-06T00:00:00",
          "2025-01-07T00:00:00",
          "2025-01-08T00:00:00",
          "2025-01-09T00:00:00",
          "2025-01-10T00:00:00",
          "2025-01-11T00:00:00",
          "2025-01-12T00:00:00",
          "2025-01-13T00:00:00",
          "2025-01-14T00:00:00",
          "2025-01-15T00:00:00",
          "2025-01-16T00:00:00",
          "2025-01-17T00:00:00",
          "2025-01-18T00:00:00",
          "2025-01-19T00:00:00",
          "2025-01-20T00:00:00",
          "2025-01-21T00:00:00",
          "2025-01-22T00:00:00",
          "2025-01-23T00:00:00",
          "2025-01-24T00:00:00",
          "2025-01-25T00:00:00",
          "2025-01-26T00:00:00",
          "2025-01-27T00:00:00",
          "2025-01-28T00:00:00",
          "2025-01-29T00:00:00",
          "2025-01-30T00:00:00",
          "2025-01-31T00:00:00"
         ],
         "y": [
          138889821.08641684,
          151330202.06115672,
          157234708.25174642,
          243831842.99512374,
          313707359.2460819,
          142913120.9162573,
          145458879.69427845,
          127323090.39471325,
          136494427.70099497,
          145782156.30496764,
          239237451.38899374,
          312354148.53088295,
          130803260.23588425,
          133836355.4496927,
          117226738.3395609,
          125941481.74287128,
          135915040.455286,
          230649488.2426581,
          304379490.34254205,
          120924527.8340218,
          124058548.14263406,
          107730909.26632518,
          116369022.58904007,
          126468977.07087389,
          221434723.0739786,
          295276005.3734322,
          111481189.3820579,
          114633895.1829399,
          98357127.64273845,
          106981780.90580848,
          117104524.26925106
         ]
        }
       ],
       "layout": {
        "legend": {
         "title": {
          "text": "Model"
         }
        },
        "template": {
         "data": {
          "bar": [
           {
            "error_x": {
             "color": "#2a3f5f"
            },
            "error_y": {
             "color": "#2a3f5f"
            },
            "marker": {
             "line": {
              "color": "white",
              "width": 0.5
             },
             "pattern": {
              "fillmode": "overlay",
              "size": 10,
              "solidity": 0.2
             }
            },
            "type": "bar"
           }
          ],
          "barpolar": [
           {
            "marker": {
             "line": {
              "color": "white",
              "width": 0.5
             },
             "pattern": {
              "fillmode": "overlay",
              "size": 10,
              "solidity": 0.2
             }
            },
            "type": "barpolar"
           }
          ],
          "carpet": [
           {
            "aaxis": {
             "endlinecolor": "#2a3f5f",
             "gridcolor": "#C8D4E3",
             "linecolor": "#C8D4E3",
             "minorgridcolor": "#C8D4E3",
             "startlinecolor": "#2a3f5f"
            },
            "baxis": {
             "endlinecolor": "#2a3f5f",
             "gridcolor": "#C8D4E3",
             "linecolor": "#C8D4E3",
             "minorgridcolor": "#C8D4E3",
             "startlinecolor": "#2a3f5f"
            },
            "type": "carpet"
           }
          ],
          "choropleth": [
           {
            "colorbar": {
             "outlinewidth": 0,
             "ticks": ""
            },
            "type": "choropleth"
           }
          ],
          "contour": [
           {
            "colorbar": {
             "outlinewidth": 0,
             "ticks": ""
            },
            "colorscale": [
             [
              0,
              "#0d0887"
             ],
             [
              0.1111111111111111,
              "#46039f"
             ],
             [
              0.2222222222222222,
              "#7201a8"
             ],
             [
              0.3333333333333333,
              "#9c179e"
             ],
             [
              0.4444444444444444,
              "#bd3786"
             ],
             [
              0.5555555555555556,
              "#d8576b"
             ],
             [
              0.6666666666666666,
              "#ed7953"
             ],
             [
              0.7777777777777778,
              "#fb9f3a"
             ],
             [
              0.8888888888888888,
              "#fdca26"
             ],
             [
              1,
              "#f0f921"
             ]
            ],
            "type": "contour"
           }
          ],
          "contourcarpet": [
           {
            "colorbar": {
             "outlinewidth": 0,
             "ticks": ""
            },
            "type": "contourcarpet"
           }
          ],
          "heatmap": [
           {
            "colorbar": {
             "outlinewidth": 0,
             "ticks": ""
            },
            "colorscale": [
             [
              0,
              "#0d0887"
             ],
             [
              0.1111111111111111,
              "#46039f"
             ],
             [
              0.2222222222222222,
              "#7201a8"
             ],
             [
              0.3333333333333333,
              "#9c179e"
             ],
             [
              0.4444444444444444,
              "#bd3786"
             ],
             [
              0.5555555555555556,
              "#d8576b"
             ],
             [
              0.6666666666666666,
              "#ed7953"
             ],
             [
              0.7777777777777778,
              "#fb9f3a"
             ],
             [
              0.8888888888888888,
              "#fdca26"
             ],
             [
              1,
              "#f0f921"
             ]
            ],
            "type": "heatmap"
           }
          ],
          "heatmapgl": [
           {
            "colorbar": {
             "outlinewidth": 0,
             "ticks": ""
            },
            "colorscale": [
             [
              0,
              "#0d0887"
             ],
             [
              0.1111111111111111,
              "#46039f"
             ],
             [
              0.2222222222222222,
              "#7201a8"
             ],
             [
              0.3333333333333333,
              "#9c179e"
             ],
             [
              0.4444444444444444,
              "#bd3786"
             ],
             [
              0.5555555555555556,
              "#d8576b"
             ],
             [
              0.6666666666666666,
              "#ed7953"
             ],
             [
              0.7777777777777778,
              "#fb9f3a"
             ],
             [
              0.8888888888888888,
              "#fdca26"
             ],
             [
              1,
              "#f0f921"
             ]
            ],
            "type": "heatmapgl"
           }
          ],
          "histogram": [
           {
            "marker": {
             "pattern": {
              "fillmode": "overlay",
              "size": 10,
              "solidity": 0.2
             }
            },
            "type": "histogram"
           }
          ],
          "histogram2d": [
           {
            "colorbar": {
             "outlinewidth": 0,
             "ticks": ""
            },
            "colorscale": [
             [
              0,
              "#0d0887"
             ],
             [
              0.1111111111111111,
              "#46039f"
             ],
             [
              0.2222222222222222,
              "#7201a8"
             ],
             [
              0.3333333333333333,
              "#9c179e"
             ],
             [
              0.4444444444444444,
              "#bd3786"
             ],
             [
              0.5555555555555556,
              "#d8576b"
             ],
             [
              0.6666666666666666,
              "#ed7953"
             ],
             [
              0.7777777777777778,
              "#fb9f3a"
             ],
             [
              0.8888888888888888,
              "#fdca26"
             ],
             [
              1,
              "#f0f921"
             ]
            ],
            "type": "histogram2d"
           }
          ],
          "histogram2dcontour": [
           {
            "colorbar": {
             "outlinewidth": 0,
             "ticks": ""
            },
            "colorscale": [
             [
              0,
              "#0d0887"
             ],
             [
              0.1111111111111111,
              "#46039f"
             ],
             [
              0.2222222222222222,
              "#7201a8"
             ],
             [
              0.3333333333333333,
              "#9c179e"
             ],
             [
              0.4444444444444444,
              "#bd3786"
             ],
             [
              0.5555555555555556,
              "#d8576b"
             ],
             [
              0.6666666666666666,
              "#ed7953"
             ],
             [
              0.7777777777777778,
              "#fb9f3a"
             ],
             [
              0.8888888888888888,
              "#fdca26"
             ],
             [
              1,
              "#f0f921"
             ]
            ],
            "type": "histogram2dcontour"
           }
          ],
          "mesh3d": [
           {
            "colorbar": {
             "outlinewidth": 0,
             "ticks": ""
            },
            "type": "mesh3d"
           }
          ],
          "parcoords": [
           {
            "line": {
             "colorbar": {
              "outlinewidth": 0,
              "ticks": ""
             }
            },
            "type": "parcoords"
           }
          ],
          "pie": [
           {
            "automargin": true,
            "type": "pie"
           }
          ],
          "scatter": [
           {
            "fillpattern": {
             "fillmode": "overlay",
             "size": 10,
             "solidity": 0.2
            },
            "type": "scatter"
           }
          ],
          "scatter3d": [
           {
            "line": {
             "colorbar": {
              "outlinewidth": 0,
              "ticks": ""
             }
            },
            "marker": {
             "colorbar": {
              "outlinewidth": 0,
              "ticks": ""
             }
            },
            "type": "scatter3d"
           }
          ],
          "scattercarpet": [
           {
            "marker": {
             "colorbar": {
              "outlinewidth": 0,
              "ticks": ""
             }
            },
            "type": "scattercarpet"
           }
          ],
          "scattergeo": [
           {
            "marker": {
             "colorbar": {
              "outlinewidth": 0,
              "ticks": ""
             }
            },
            "type": "scattergeo"
           }
          ],
          "scattergl": [
           {
            "marker": {
             "colorbar": {
              "outlinewidth": 0,
              "ticks": ""
             }
            },
            "type": "scattergl"
           }
          ],
          "scattermapbox": [
           {
            "marker": {
             "colorbar": {
              "outlinewidth": 0,
              "ticks": ""
             }
            },
            "type": "scattermapbox"
           }
          ],
          "scatterpolar": [
           {
            "marker": {
             "colorbar": {
              "outlinewidth": 0,
              "ticks": ""
             }
            },
            "type": "scatterpolar"
           }
          ],
          "scatterpolargl": [
           {
            "marker": {
             "colorbar": {
              "outlinewidth": 0,
              "ticks": ""
             }
            },
            "type": "scatterpolargl"
           }
          ],
          "scatterternary": [
           {
            "marker": {
             "colorbar": {
              "outlinewidth": 0,
              "ticks": ""
             }
            },
            "type": "scatterternary"
           }
          ],
          "surface": [
           {
            "colorbar": {
             "outlinewidth": 0,
             "ticks": ""
            },
            "colorscale": [
             [
              0,
              "#0d0887"
             ],
             [
              0.1111111111111111,
              "#46039f"
             ],
             [
              0.2222222222222222,
              "#7201a8"
             ],
             [
              0.3333333333333333,
              "#9c179e"
             ],
             [
              0.4444444444444444,
              "#bd3786"
             ],
             [
              0.5555555555555556,
              "#d8576b"
             ],
             [
              0.6666666666666666,
              "#ed7953"
             ],
             [
              0.7777777777777778,
              "#fb9f3a"
             ],
             [
              0.8888888888888888,
              "#fdca26"
             ],
             [
              1,
              "#f0f921"
             ]
            ],
            "type": "surface"
           }
          ],
          "table": [
           {
            "cells": {
             "fill": {
              "color": "#EBF0F8"
             },
             "line": {
              "color": "white"
             }
            },
            "header": {
             "fill": {
              "color": "#C8D4E3"
             },
             "line": {
              "color": "white"
             }
            },
            "type": "table"
           }
          ]
         },
         "layout": {
          "annotationdefaults": {
           "arrowcolor": "#2a3f5f",
           "arrowhead": 0,
           "arrowwidth": 1
          },
          "autotypenumbers": "strict",
          "coloraxis": {
           "colorbar": {
            "outlinewidth": 0,
            "ticks": ""
           }
          },
          "colorscale": {
           "diverging": [
            [
             0,
             "#8e0152"
            ],
            [
             0.1,
             "#c51b7d"
            ],
            [
             0.2,
             "#de77ae"
            ],
            [
             0.3,
             "#f1b6da"
            ],
            [
             0.4,
             "#fde0ef"
            ],
            [
             0.5,
             "#f7f7f7"
            ],
            [
             0.6,
             "#e6f5d0"
            ],
            [
             0.7,
             "#b8e186"
            ],
            [
             0.8,
             "#7fbc41"
            ],
            [
             0.9,
             "#4d9221"
            ],
            [
             1,
             "#276419"
            ]
           ],
           "sequential": [
            [
             0,
             "#0d0887"
            ],
            [
             0.1111111111111111,
             "#46039f"
            ],
            [
             0.2222222222222222,
             "#7201a8"
            ],
            [
             0.3333333333333333,
             "#9c179e"
            ],
            [
             0.4444444444444444,
             "#bd3786"
            ],
            [
             0.5555555555555556,
             "#d8576b"
            ],
            [
             0.6666666666666666,
             "#ed7953"
            ],
            [
             0.7777777777777778,
             "#fb9f3a"
            ],
            [
             0.8888888888888888,
             "#fdca26"
            ],
            [
             1,
             "#f0f921"
            ]
           ],
           "sequentialminus": [
            [
             0,
             "#0d0887"
            ],
            [
             0.1111111111111111,
             "#46039f"
            ],
            [
             0.2222222222222222,
             "#7201a8"
            ],
            [
             0.3333333333333333,
             "#9c179e"
            ],
            [
             0.4444444444444444,
             "#bd3786"
            ],
            [
             0.5555555555555556,
             "#d8576b"
            ],
            [
             0.6666666666666666,
             "#ed7953"
            ],
            [
             0.7777777777777778,
             "#fb9f3a"
            ],
            [
             0.8888888888888888,
             "#fdca26"
            ],
            [
             1,
             "#f0f921"
            ]
           ]
          },
          "colorway": [
           "#636efa",
           "#EF553B",
           "#00cc96",
           "#ab63fa",
           "#FFA15A",
           "#19d3f3",
           "#FF6692",
           "#B6E880",
           "#FF97FF",
           "#FECB52"
          ],
          "font": {
           "color": "#2a3f5f"
          },
          "geo": {
           "bgcolor": "white",
           "lakecolor": "white",
           "landcolor": "white",
           "showlakes": true,
           "showland": true,
           "subunitcolor": "#C8D4E3"
          },
          "hoverlabel": {
           "align": "left"
          },
          "hovermode": "closest",
          "mapbox": {
           "style": "light"
          },
          "paper_bgcolor": "white",
          "plot_bgcolor": "white",
          "polar": {
           "angularaxis": {
            "gridcolor": "#EBF0F8",
            "linecolor": "#EBF0F8",
            "ticks": ""
           },
           "bgcolor": "white",
           "radialaxis": {
            "gridcolor": "#EBF0F8",
            "linecolor": "#EBF0F8",
            "ticks": ""
           }
          },
          "scene": {
           "xaxis": {
            "backgroundcolor": "white",
            "gridcolor": "#DFE8F3",
            "gridwidth": 2,
            "linecolor": "#EBF0F8",
            "showbackground": true,
            "ticks": "",
            "zerolinecolor": "#EBF0F8"
           },
           "yaxis": {
            "backgroundcolor": "white",
            "gridcolor": "#DFE8F3",
            "gridwidth": 2,
            "linecolor": "#EBF0F8",
            "showbackground": true,
            "ticks": "",
            "zerolinecolor": "#EBF0F8"
           },
           "zaxis": {
            "backgroundcolor": "white",
            "gridcolor": "#DFE8F3",
            "gridwidth": 2,
            "linecolor": "#EBF0F8",
            "showbackground": true,
            "ticks": "",
            "zerolinecolor": "#EBF0F8"
           }
          },
          "shapedefaults": {
           "line": {
            "color": "#2a3f5f"
           }
          },
          "ternary": {
           "aaxis": {
            "gridcolor": "#DFE8F3",
            "linecolor": "#A2B1C6",
            "ticks": ""
           },
           "baxis": {
            "gridcolor": "#DFE8F3",
            "linecolor": "#A2B1C6",
            "ticks": ""
           },
           "bgcolor": "white",
           "caxis": {
            "gridcolor": "#DFE8F3",
            "linecolor": "#A2B1C6",
            "ticks": ""
           }
          },
          "title": {
           "x": 0.05
          },
          "xaxis": {
           "automargin": true,
           "gridcolor": "#EBF0F8",
           "linecolor": "#EBF0F8",
           "ticks": "",
           "title": {
            "standoff": 15
           },
           "zerolinecolor": "#EBF0F8",
           "zerolinewidth": 2
          },
          "yaxis": {
           "automargin": true,
           "gridcolor": "#EBF0F8",
           "linecolor": "#EBF0F8",
           "ticks": "",
           "title": {
            "standoff": 15
           },
           "zerolinecolor": "#EBF0F8",
           "zerolinewidth": 2
          }
         }
        },
        "title": {
         "text": "Comparison of January 2025 Predictions: Auto ARIMA vs SARIMAX"
        },
        "xaxis": {
         "title": {
          "text": "Date"
         }
        },
        "yaxis": {
         "title": {
          "text": "Transaction Amount"
         }
        }
       }
      }
     },
     "metadata": {},
     "output_type": "display_data"
    }
   ],
   "source": [
    "import plotly.graph_objects as go\n",
    "\n",
    "# Predict January 2025 using both models\n",
    "# Create exogenous variables for January 2025\n",
    "january_2025_exog = pd.DataFrame({\n",
    "\t'is_salary_day': [1 if day <= 8 else 0 for day in range(1, 32)],\n",
    "\t'is_holiday': [0] * 31  # Assuming no holidays in January 2025; update if needed\n",
    "})\n",
    "\n",
    "# Predict January 2025 using both models\n",
    "january_2025_forecast = pd.DataFrame({\n",
    "\t'Date': pd.date_range(start='2025-01-01', end='2025-01-31', freq='D'),\n",
    "\t'Auto_ARIMA_Forecast': Auto_arima_model.predict(n_periods=31),\n",
    "\t'SARIMAX_Forecast': Sarimax_model_fit.get_forecast(steps=31, exog=january_2025_exog).predicted_mean\n",
    "})\n",
    "\n",
    "# Create a comparison graph\n",
    "fig = go.Figure()\n",
    "\n",
    "# Add Auto ARIMA predictions\n",
    "fig.add_trace(go.Scatter(\n",
    "\tx=january_2025_forecast['Date'],\n",
    "\ty=january_2025_forecast['Auto_ARIMA_Forecast'],\n",
    "\tmode='lines+markers',\n",
    "\tname='Auto ARIMA Predictions',\n",
    "\tline=dict(color='blue')\n",
    "))\n",
    "\n",
    "# Add SARIMAX predictions\n",
    "fig.add_trace(go.Scatter(\n",
    "\tx=january_2025_forecast['Date'],\n",
    "\ty=january_2025_forecast['SARIMAX_Forecast'],\n",
    "\tmode='lines+markers',\n",
    "\tname='SARIMAX Predictions',\n",
    "\tline=dict(color='red')\n",
    "))\n",
    "\n",
    "# Customize the layout\n",
    "fig.update_layout(\n",
    "\ttitle='Comparison of January 2025 Predictions: Auto ARIMA vs SARIMAX',\n",
    "\txaxis_title='Date',\n",
    "\tyaxis_title='Transaction Amount',\n",
    "\tlegend_title='Model',\n",
    "\ttemplate='plotly_white'\n",
    ")\n",
    "\n",
    "# Show the graph\n",
    "fig.show()"
   ]
  },
  {
   "cell_type": "code",
   "execution_count": 28,
   "id": "465745de",
   "metadata": {},
   "outputs": [
    {
     "name": "stderr",
     "output_type": "stream",
     "text": [
      "c:\\Users\\vibhu\\miniconda3\\lib\\site-packages\\_plotly_utils\\basevalidators.py:106: FutureWarning:\n",
      "\n",
      "The behavior of DatetimeProperties.to_pydatetime is deprecated, in a future version this will return a Series containing python datetime objects instead of an ndarray. To retain the old behavior, call `np.array` on the result\n",
      "\n"
     ]
    },
    {
     "data": {
      "application/vnd.plotly.v1+json": {
       "config": {
        "plotlyServerURL": "https://plot.ly"
       },
       "data": [
        {
         "line": {
          "color": "red"
         },
         "mode": "lines+markers",
         "name": "SARIMAX Predictions",
         "type": "scatter",
         "x": [
          "2025-01-01T00:00:00",
          "2025-01-02T00:00:00",
          "2025-01-03T00:00:00",
          "2025-01-04T00:00:00",
          "2025-01-05T00:00:00",
          "2025-01-06T00:00:00",
          "2025-01-07T00:00:00",
          "2025-01-08T00:00:00",
          "2025-01-09T00:00:00",
          "2025-01-10T00:00:00",
          "2025-01-11T00:00:00",
          "2025-01-12T00:00:00",
          "2025-01-13T00:00:00",
          "2025-01-14T00:00:00",
          "2025-01-15T00:00:00",
          "2025-01-16T00:00:00",
          "2025-01-17T00:00:00",
          "2025-01-18T00:00:00",
          "2025-01-19T00:00:00",
          "2025-01-20T00:00:00",
          "2025-01-21T00:00:00",
          "2025-01-22T00:00:00",
          "2025-01-23T00:00:00",
          "2025-01-24T00:00:00",
          "2025-01-25T00:00:00",
          "2025-01-26T00:00:00",
          "2025-01-27T00:00:00",
          "2025-01-28T00:00:00",
          "2025-01-29T00:00:00",
          "2025-01-30T00:00:00",
          "2025-01-31T00:00:00",
          "2025-02-01T00:00:00",
          "2025-02-02T00:00:00",
          "2025-02-03T00:00:00",
          "2025-02-04T00:00:00",
          "2025-02-05T00:00:00",
          "2025-02-06T00:00:00",
          "2025-02-07T00:00:00",
          "2025-02-08T00:00:00",
          "2025-02-09T00:00:00",
          "2025-02-10T00:00:00",
          "2025-02-11T00:00:00",
          "2025-02-12T00:00:00",
          "2025-02-13T00:00:00",
          "2025-02-14T00:00:00",
          "2025-02-15T00:00:00",
          "2025-02-16T00:00:00",
          "2025-02-17T00:00:00",
          "2025-02-18T00:00:00",
          "2025-02-19T00:00:00",
          "2025-02-20T00:00:00",
          "2025-02-21T00:00:00",
          "2025-02-22T00:00:00",
          "2025-02-23T00:00:00",
          "2025-02-24T00:00:00",
          "2025-02-25T00:00:00",
          "2025-02-26T00:00:00",
          "2025-02-27T00:00:00",
          "2025-02-28T00:00:00",
          "2025-03-01T00:00:00",
          "2025-03-02T00:00:00",
          "2025-03-03T00:00:00",
          "2025-03-04T00:00:00",
          "2025-03-05T00:00:00",
          "2025-03-06T00:00:00",
          "2025-03-07T00:00:00",
          "2025-03-08T00:00:00",
          "2025-03-09T00:00:00",
          "2025-03-10T00:00:00",
          "2025-03-11T00:00:00",
          "2025-03-12T00:00:00",
          "2025-03-13T00:00:00",
          "2025-03-14T00:00:00",
          "2025-03-15T00:00:00",
          "2025-03-16T00:00:00",
          "2025-03-17T00:00:00",
          "2025-03-18T00:00:00",
          "2025-03-19T00:00:00",
          "2025-03-20T00:00:00",
          "2025-03-21T00:00:00",
          "2025-03-22T00:00:00",
          "2025-03-23T00:00:00",
          "2025-03-24T00:00:00",
          "2025-03-25T00:00:00",
          "2025-03-26T00:00:00",
          "2025-03-27T00:00:00",
          "2025-03-28T00:00:00",
          "2025-03-29T00:00:00",
          "2025-03-30T00:00:00",
          "2025-03-31T00:00:00"
         ],
         "y": [
          138889821.08641684,
          151330202.06115672,
          157234708.25174642,
          243831842.99512374,
          313707359.2460819,
          142913120.9162573,
          145458879.69427845,
          127323090.39471325,
          136494427.70099497,
          145782156.30496764,
          239237451.38899374,
          312354148.53088295,
          130803260.23588425,
          133837294.92187275,
          117226738.3395609,
          125941481.74287128,
          135915040.455286,
          230649488.2426581,
          304379490.34254205,
          120924527.8340218,
          124058548.14263406,
          107730909.26632518,
          116369022.58904007,
          126468977.07087389,
          221434723.0739786,
          295276005.3734322,
          111481189.3820579,
          114633895.1829399,
          98357127.64273845,
          106981780.90580848,
          117104524.26925106,
          212114902.3758551,
          285976171.27000326,
          102120567.1069105,
          105276645.61907919,
          89009001.83627401,
          97631257.43481301,
          107758087.3464959,
          202772774.6583863,
          276634499.01154727,
          92768016.08083418,
          95924699.56341884,
          79658689.70169756,
          88280516.65755543,
          98408078.37709561,
          193424096.6088353,
          267289587.11962926,
          83421157.03898212,
          86577948.86565438,
          70312231.5039286,
          78933981.75893494,
          89061674.48338641,
          184077930.95232308,
          257943536.21258292,
          74074757.60684907,
          77231568.82913285,
          60965903.824981615,
          69588579.8242164,
          79715356.5263422,
          174734780.75374568,
          248600406.55381703,
          64731565.56418931,
          67888380.25829957,
          51622724.625943005,
          60244458.695818655,
          70372179.06755124,
          165388485.81307518,
          239250990.17480344,
          55382138.01880935,
          58538953.33436288,
          42273299.37950958,
          50895972.48174592,
          61023693.604796275,
          156039062.24440444,
          229904692.379081,
          46035838.22436899,
          49192653.65115769,
          32926999.99656844,
          41548733.54789959,
          51676454.80543176,
          146692763.16177383,
          220558393.41424286,
          36689538.90177131,
          39846354.34847051,
          23580700.74762688,
          32202434.28486666,
          42330155.566470355,
          137346463.96658623,
          211212094.2401395,
          27344179.13581101
         ]
        }
       ],
       "layout": {
        "legend": {
         "title": {
          "text": "Model"
         }
        },
        "template": {
         "data": {
          "bar": [
           {
            "error_x": {
             "color": "#2a3f5f"
            },
            "error_y": {
             "color": "#2a3f5f"
            },
            "marker": {
             "line": {
              "color": "white",
              "width": 0.5
             },
             "pattern": {
              "fillmode": "overlay",
              "size": 10,
              "solidity": 0.2
             }
            },
            "type": "bar"
           }
          ],
          "barpolar": [
           {
            "marker": {
             "line": {
              "color": "white",
              "width": 0.5
             },
             "pattern": {
              "fillmode": "overlay",
              "size": 10,
              "solidity": 0.2
             }
            },
            "type": "barpolar"
           }
          ],
          "carpet": [
           {
            "aaxis": {
             "endlinecolor": "#2a3f5f",
             "gridcolor": "#C8D4E3",
             "linecolor": "#C8D4E3",
             "minorgridcolor": "#C8D4E3",
             "startlinecolor": "#2a3f5f"
            },
            "baxis": {
             "endlinecolor": "#2a3f5f",
             "gridcolor": "#C8D4E3",
             "linecolor": "#C8D4E3",
             "minorgridcolor": "#C8D4E3",
             "startlinecolor": "#2a3f5f"
            },
            "type": "carpet"
           }
          ],
          "choropleth": [
           {
            "colorbar": {
             "outlinewidth": 0,
             "ticks": ""
            },
            "type": "choropleth"
           }
          ],
          "contour": [
           {
            "colorbar": {
             "outlinewidth": 0,
             "ticks": ""
            },
            "colorscale": [
             [
              0,
              "#0d0887"
             ],
             [
              0.1111111111111111,
              "#46039f"
             ],
             [
              0.2222222222222222,
              "#7201a8"
             ],
             [
              0.3333333333333333,
              "#9c179e"
             ],
             [
              0.4444444444444444,
              "#bd3786"
             ],
             [
              0.5555555555555556,
              "#d8576b"
             ],
             [
              0.6666666666666666,
              "#ed7953"
             ],
             [
              0.7777777777777778,
              "#fb9f3a"
             ],
             [
              0.8888888888888888,
              "#fdca26"
             ],
             [
              1,
              "#f0f921"
             ]
            ],
            "type": "contour"
           }
          ],
          "contourcarpet": [
           {
            "colorbar": {
             "outlinewidth": 0,
             "ticks": ""
            },
            "type": "contourcarpet"
           }
          ],
          "heatmap": [
           {
            "colorbar": {
             "outlinewidth": 0,
             "ticks": ""
            },
            "colorscale": [
             [
              0,
              "#0d0887"
             ],
             [
              0.1111111111111111,
              "#46039f"
             ],
             [
              0.2222222222222222,
              "#7201a8"
             ],
             [
              0.3333333333333333,
              "#9c179e"
             ],
             [
              0.4444444444444444,
              "#bd3786"
             ],
             [
              0.5555555555555556,
              "#d8576b"
             ],
             [
              0.6666666666666666,
              "#ed7953"
             ],
             [
              0.7777777777777778,
              "#fb9f3a"
             ],
             [
              0.8888888888888888,
              "#fdca26"
             ],
             [
              1,
              "#f0f921"
             ]
            ],
            "type": "heatmap"
           }
          ],
          "heatmapgl": [
           {
            "colorbar": {
             "outlinewidth": 0,
             "ticks": ""
            },
            "colorscale": [
             [
              0,
              "#0d0887"
             ],
             [
              0.1111111111111111,
              "#46039f"
             ],
             [
              0.2222222222222222,
              "#7201a8"
             ],
             [
              0.3333333333333333,
              "#9c179e"
             ],
             [
              0.4444444444444444,
              "#bd3786"
             ],
             [
              0.5555555555555556,
              "#d8576b"
             ],
             [
              0.6666666666666666,
              "#ed7953"
             ],
             [
              0.7777777777777778,
              "#fb9f3a"
             ],
             [
              0.8888888888888888,
              "#fdca26"
             ],
             [
              1,
              "#f0f921"
             ]
            ],
            "type": "heatmapgl"
           }
          ],
          "histogram": [
           {
            "marker": {
             "pattern": {
              "fillmode": "overlay",
              "size": 10,
              "solidity": 0.2
             }
            },
            "type": "histogram"
           }
          ],
          "histogram2d": [
           {
            "colorbar": {
             "outlinewidth": 0,
             "ticks": ""
            },
            "colorscale": [
             [
              0,
              "#0d0887"
             ],
             [
              0.1111111111111111,
              "#46039f"
             ],
             [
              0.2222222222222222,
              "#7201a8"
             ],
             [
              0.3333333333333333,
              "#9c179e"
             ],
             [
              0.4444444444444444,
              "#bd3786"
             ],
             [
              0.5555555555555556,
              "#d8576b"
             ],
             [
              0.6666666666666666,
              "#ed7953"
             ],
             [
              0.7777777777777778,
              "#fb9f3a"
             ],
             [
              0.8888888888888888,
              "#fdca26"
             ],
             [
              1,
              "#f0f921"
             ]
            ],
            "type": "histogram2d"
           }
          ],
          "histogram2dcontour": [
           {
            "colorbar": {
             "outlinewidth": 0,
             "ticks": ""
            },
            "colorscale": [
             [
              0,
              "#0d0887"
             ],
             [
              0.1111111111111111,
              "#46039f"
             ],
             [
              0.2222222222222222,
              "#7201a8"
             ],
             [
              0.3333333333333333,
              "#9c179e"
             ],
             [
              0.4444444444444444,
              "#bd3786"
             ],
             [
              0.5555555555555556,
              "#d8576b"
             ],
             [
              0.6666666666666666,
              "#ed7953"
             ],
             [
              0.7777777777777778,
              "#fb9f3a"
             ],
             [
              0.8888888888888888,
              "#fdca26"
             ],
             [
              1,
              "#f0f921"
             ]
            ],
            "type": "histogram2dcontour"
           }
          ],
          "mesh3d": [
           {
            "colorbar": {
             "outlinewidth": 0,
             "ticks": ""
            },
            "type": "mesh3d"
           }
          ],
          "parcoords": [
           {
            "line": {
             "colorbar": {
              "outlinewidth": 0,
              "ticks": ""
             }
            },
            "type": "parcoords"
           }
          ],
          "pie": [
           {
            "automargin": true,
            "type": "pie"
           }
          ],
          "scatter": [
           {
            "fillpattern": {
             "fillmode": "overlay",
             "size": 10,
             "solidity": 0.2
            },
            "type": "scatter"
           }
          ],
          "scatter3d": [
           {
            "line": {
             "colorbar": {
              "outlinewidth": 0,
              "ticks": ""
             }
            },
            "marker": {
             "colorbar": {
              "outlinewidth": 0,
              "ticks": ""
             }
            },
            "type": "scatter3d"
           }
          ],
          "scattercarpet": [
           {
            "marker": {
             "colorbar": {
              "outlinewidth": 0,
              "ticks": ""
             }
            },
            "type": "scattercarpet"
           }
          ],
          "scattergeo": [
           {
            "marker": {
             "colorbar": {
              "outlinewidth": 0,
              "ticks": ""
             }
            },
            "type": "scattergeo"
           }
          ],
          "scattergl": [
           {
            "marker": {
             "colorbar": {
              "outlinewidth": 0,
              "ticks": ""
             }
            },
            "type": "scattergl"
           }
          ],
          "scattermapbox": [
           {
            "marker": {
             "colorbar": {
              "outlinewidth": 0,
              "ticks": ""
             }
            },
            "type": "scattermapbox"
           }
          ],
          "scatterpolar": [
           {
            "marker": {
             "colorbar": {
              "outlinewidth": 0,
              "ticks": ""
             }
            },
            "type": "scatterpolar"
           }
          ],
          "scatterpolargl": [
           {
            "marker": {
             "colorbar": {
              "outlinewidth": 0,
              "ticks": ""
             }
            },
            "type": "scatterpolargl"
           }
          ],
          "scatterternary": [
           {
            "marker": {
             "colorbar": {
              "outlinewidth": 0,
              "ticks": ""
             }
            },
            "type": "scatterternary"
           }
          ],
          "surface": [
           {
            "colorbar": {
             "outlinewidth": 0,
             "ticks": ""
            },
            "colorscale": [
             [
              0,
              "#0d0887"
             ],
             [
              0.1111111111111111,
              "#46039f"
             ],
             [
              0.2222222222222222,
              "#7201a8"
             ],
             [
              0.3333333333333333,
              "#9c179e"
             ],
             [
              0.4444444444444444,
              "#bd3786"
             ],
             [
              0.5555555555555556,
              "#d8576b"
             ],
             [
              0.6666666666666666,
              "#ed7953"
             ],
             [
              0.7777777777777778,
              "#fb9f3a"
             ],
             [
              0.8888888888888888,
              "#fdca26"
             ],
             [
              1,
              "#f0f921"
             ]
            ],
            "type": "surface"
           }
          ],
          "table": [
           {
            "cells": {
             "fill": {
              "color": "#EBF0F8"
             },
             "line": {
              "color": "white"
             }
            },
            "header": {
             "fill": {
              "color": "#C8D4E3"
             },
             "line": {
              "color": "white"
             }
            },
            "type": "table"
           }
          ]
         },
         "layout": {
          "annotationdefaults": {
           "arrowcolor": "#2a3f5f",
           "arrowhead": 0,
           "arrowwidth": 1
          },
          "autotypenumbers": "strict",
          "coloraxis": {
           "colorbar": {
            "outlinewidth": 0,
            "ticks": ""
           }
          },
          "colorscale": {
           "diverging": [
            [
             0,
             "#8e0152"
            ],
            [
             0.1,
             "#c51b7d"
            ],
            [
             0.2,
             "#de77ae"
            ],
            [
             0.3,
             "#f1b6da"
            ],
            [
             0.4,
             "#fde0ef"
            ],
            [
             0.5,
             "#f7f7f7"
            ],
            [
             0.6,
             "#e6f5d0"
            ],
            [
             0.7,
             "#b8e186"
            ],
            [
             0.8,
             "#7fbc41"
            ],
            [
             0.9,
             "#4d9221"
            ],
            [
             1,
             "#276419"
            ]
           ],
           "sequential": [
            [
             0,
             "#0d0887"
            ],
            [
             0.1111111111111111,
             "#46039f"
            ],
            [
             0.2222222222222222,
             "#7201a8"
            ],
            [
             0.3333333333333333,
             "#9c179e"
            ],
            [
             0.4444444444444444,
             "#bd3786"
            ],
            [
             0.5555555555555556,
             "#d8576b"
            ],
            [
             0.6666666666666666,
             "#ed7953"
            ],
            [
             0.7777777777777778,
             "#fb9f3a"
            ],
            [
             0.8888888888888888,
             "#fdca26"
            ],
            [
             1,
             "#f0f921"
            ]
           ],
           "sequentialminus": [
            [
             0,
             "#0d0887"
            ],
            [
             0.1111111111111111,
             "#46039f"
            ],
            [
             0.2222222222222222,
             "#7201a8"
            ],
            [
             0.3333333333333333,
             "#9c179e"
            ],
            [
             0.4444444444444444,
             "#bd3786"
            ],
            [
             0.5555555555555556,
             "#d8576b"
            ],
            [
             0.6666666666666666,
             "#ed7953"
            ],
            [
             0.7777777777777778,
             "#fb9f3a"
            ],
            [
             0.8888888888888888,
             "#fdca26"
            ],
            [
             1,
             "#f0f921"
            ]
           ]
          },
          "colorway": [
           "#636efa",
           "#EF553B",
           "#00cc96",
           "#ab63fa",
           "#FFA15A",
           "#19d3f3",
           "#FF6692",
           "#B6E880",
           "#FF97FF",
           "#FECB52"
          ],
          "font": {
           "color": "#2a3f5f"
          },
          "geo": {
           "bgcolor": "white",
           "lakecolor": "white",
           "landcolor": "white",
           "showlakes": true,
           "showland": true,
           "subunitcolor": "#C8D4E3"
          },
          "hoverlabel": {
           "align": "left"
          },
          "hovermode": "closest",
          "mapbox": {
           "style": "light"
          },
          "paper_bgcolor": "white",
          "plot_bgcolor": "white",
          "polar": {
           "angularaxis": {
            "gridcolor": "#EBF0F8",
            "linecolor": "#EBF0F8",
            "ticks": ""
           },
           "bgcolor": "white",
           "radialaxis": {
            "gridcolor": "#EBF0F8",
            "linecolor": "#EBF0F8",
            "ticks": ""
           }
          },
          "scene": {
           "xaxis": {
            "backgroundcolor": "white",
            "gridcolor": "#DFE8F3",
            "gridwidth": 2,
            "linecolor": "#EBF0F8",
            "showbackground": true,
            "ticks": "",
            "zerolinecolor": "#EBF0F8"
           },
           "yaxis": {
            "backgroundcolor": "white",
            "gridcolor": "#DFE8F3",
            "gridwidth": 2,
            "linecolor": "#EBF0F8",
            "showbackground": true,
            "ticks": "",
            "zerolinecolor": "#EBF0F8"
           },
           "zaxis": {
            "backgroundcolor": "white",
            "gridcolor": "#DFE8F3",
            "gridwidth": 2,
            "linecolor": "#EBF0F8",
            "showbackground": true,
            "ticks": "",
            "zerolinecolor": "#EBF0F8"
           }
          },
          "shapedefaults": {
           "line": {
            "color": "#2a3f5f"
           }
          },
          "ternary": {
           "aaxis": {
            "gridcolor": "#DFE8F3",
            "linecolor": "#A2B1C6",
            "ticks": ""
           },
           "baxis": {
            "gridcolor": "#DFE8F3",
            "linecolor": "#A2B1C6",
            "ticks": ""
           },
           "bgcolor": "white",
           "caxis": {
            "gridcolor": "#DFE8F3",
            "linecolor": "#A2B1C6",
            "ticks": ""
           }
          },
          "title": {
           "x": 0.05
          },
          "xaxis": {
           "automargin": true,
           "gridcolor": "#EBF0F8",
           "linecolor": "#EBF0F8",
           "ticks": "",
           "title": {
            "standoff": 15
           },
           "zerolinecolor": "#EBF0F8",
           "zerolinewidth": 2
          },
          "yaxis": {
           "automargin": true,
           "gridcolor": "#EBF0F8",
           "linecolor": "#EBF0F8",
           "ticks": "",
           "title": {
            "standoff": 15
           },
           "zerolinecolor": "#EBF0F8",
           "zerolinewidth": 2
          }
         }
        },
        "title": {
         "text": "SARIMAX Predictions for January to March 2025"
        },
        "xaxis": {
         "title": {
          "text": "Date"
         }
        },
        "yaxis": {
         "title": {
          "text": "Transaction Amount"
         }
        }
       }
      }
     },
     "metadata": {},
     "output_type": "display_data"
    }
   ],
   "source": [
    "# Define the holidays and their dates\n",
    "holidays_2025 = pd.DataFrame({\n",
    "\t'Date': pd.to_datetime(['2025-01-14', '2025-02-27', '2025-03-13', '2025-03-14', '2025-03-31']),\n",
    "\t'Holiday': ['Makar Sankranti', 'Maha Shivratri', 'Holika Dahan', 'Holi', 'Eid-ul-Fitr']\n",
    "})\n",
    "\n",
    "# Create exogenous variables for January to March 2025\n",
    "january_to_march_2025_exog = pd.DataFrame({\n",
    "\t'is_salary_day': [1 if day <= 8 else 0 for day in range(1, 32)] + \n",
    "\t\t\t\t\t [1 if day <= 8 else 0 for day in range(1, 29)] + \n",
    "\t\t\t\t\t [1 if day <= 8 else 0 for day in range(1, 32)],\n",
    "\t'is_holiday': [1 if pd.Timestamp(f'2025-{month:02d}-{day:02d}') in holidays_2025['Date'].values else 0 \n",
    "\t\t\t\t   for month, days in zip([1, 2, 3], [31, 28, 31]) for day in range(1, days + 1)]\n",
    "})\n",
    "\n",
    "# Ensure 'Date' column exists in the exogenous variables DataFrame\n",
    "january_to_march_2025_exog['Date'] = pd.date_range(start='2025-01-01', end='2025-03-31', freq='D')\n",
    "\n",
    "# Predict January to March 2025 using the SARIMAX model\n",
    "january_to_march_2025_forecast = pd.DataFrame({\n",
    "\t'Date': pd.date_range(start='2025-01-01', end='2025-03-31', freq='D'),\n",
    "\t'SARIMAX_Forecast': Sarimax_model_fit.get_forecast(steps=90, exog=january_to_march_2025_exog[['is_salary_day', 'is_holiday']]).predicted_mean\n",
    "})\n",
    "\n",
    "# Create a comparison graph\n",
    "fig = go.Figure()\n",
    "\n",
    "# Add SARIMAX predictions\n",
    "fig.add_trace(go.Scatter(\n",
    "\tx=january_to_march_2025_forecast['Date'],\n",
    "\ty=january_to_march_2025_forecast['SARIMAX_Forecast'],\n",
    "\tmode='lines+markers',\n",
    "\tname='SARIMAX Predictions',\n",
    "\tline=dict(color='red')\n",
    "))\n",
    "\n",
    "# Customize the layout\n",
    "fig.update_layout(\n",
    "\ttitle='SARIMAX Predictions for January to March 2025',\n",
    "\txaxis_title='Date',\n",
    "\tyaxis_title='Transaction Amount',\n",
    "\tlegend_title='Model',\n",
    "\ttemplate='plotly_white'\n",
    ")\n",
    "\n",
    "# Show the graph\n",
    "fig.show()\n"
   ]
  },
  {
   "cell_type": "code",
   "execution_count": 29,
   "id": "b54b833a",
   "metadata": {},
   "outputs": [
    {
     "name": "stdout",
     "output_type": "stream",
     "text": [
      "RMSE: 97456280.13625729, MAE: 53188373.77937515, MAPE: 14.629432113958025%\n"
     ]
    }
   ],
   "source": [
    "# check accuracy of the model\n",
    "from sklearn.metrics import mean_squared_error, mean_absolute_error\n",
    "from math import sqrt\n",
    "\n",
    "# Calculate fitted values\n",
    "fitted_values = Auto_arima_model.predict_in_sample()\n",
    "# Calculate RMSE and MAE\n",
    "\n",
    "rmse = sqrt(mean_squared_error(time_series_data['Transaction_Amount'], fitted_values))\n",
    "mae = mean_absolute_error(time_series_data['Transaction_Amount'], fitted_values)\n",
    "mape = np.mean(np.abs((time_series_data['Transaction_Amount'] - fitted_values) / time_series_data['Transaction_Amount'])) * 100\n",
    "print(f\"RMSE: {rmse}, MAE: {mae}, MAPE: {mape}%\")"
   ]
  },
  {
   "cell_type": "code",
   "execution_count": 30,
   "id": "7cd603db",
   "metadata": {},
   "outputs": [
    {
     "name": "stdout",
     "output_type": "stream",
     "text": [
      "RMSE: 67013216.90690106, MAE: 37995568.15875853, MAPE: 10.968455208897195%\n"
     ]
    }
   ],
   "source": [
    "# check accuracy of the model\n",
    "from sklearn.metrics import mean_squared_error, mean_absolute_error\n",
    "from math import sqrt\n",
    "\n",
    "# Calculate fitted values\n",
    "fitted_values = Sarimax_model_fit.predict(start=0, end=len(time_series_data)-1)\n",
    "# Calculate RMSE and MAE\n",
    "\n",
    "rmse = sqrt(mean_squared_error(time_series_data['Transaction_Amount'], fitted_values))\n",
    "mae = mean_absolute_error(time_series_data['Transaction_Amount'], fitted_values)\n",
    "mape = np.mean(np.abs((time_series_data['Transaction_Amount'] - fitted_values) / time_series_data['Transaction_Amount'])) * 100\n",
    "print(f\"RMSE: {rmse}, MAE: {mae}, MAPE: {mape}%\")\n",
    "\n"
   ]
  },
  {
   "cell_type": "code",
   "execution_count": null,
   "id": "1f5d5dee",
   "metadata": {},
   "outputs": [],
   "source": []
  }
 ],
 "metadata": {
  "kernelspec": {
   "display_name": "base",
   "language": "python",
   "name": "python3"
  },
  "language_info": {
   "codemirror_mode": {
    "name": "ipython",
    "version": 3
   },
   "file_extension": ".py",
   "mimetype": "text/x-python",
   "name": "python",
   "nbconvert_exporter": "python",
   "pygments_lexer": "ipython3",
   "version": "3.10.9"
  }
 },
 "nbformat": 4,
 "nbformat_minor": 5
}
